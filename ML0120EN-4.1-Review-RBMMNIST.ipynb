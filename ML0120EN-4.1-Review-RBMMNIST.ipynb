{
 "cells": [
  {
   "cell_type": "markdown",
   "metadata": {},
   "source": [
    "<img src=\"https://cf-courses-data.s3.us.cloud-object-storage.appdomain.cloud/IBMDeveloperSkillsNetwork-DL0120EN-SkillsNetwork/images/IDSN-logo.png\" width=\"300\" alt=\"cognitiveclass.ai logo\">\n",
    "\n",
    "<h1 align=\"center\"><font size=\"5\">RESTRICTED BOLTZMANN MACHINES</font></h1>\n"
   ]
  },
  {
   "cell_type": "markdown",
   "metadata": {},
   "source": [
    "Estimated time needed: **25** minutes\n"
   ]
  },
  {
   "cell_type": "markdown",
   "metadata": {},
   "source": [
    "<h3>Introduction</h3>\n",
    "<b>Restricted Boltzmann Machine (RBM):</b>  RBMs are shallow neural nets that learn to reconstruct data by themselves in an unsupervised fashion.  \n",
    "\n",
    "\n",
    "<h4>Why are RBMs important?</h4>\n",
    "An RBM are a basic form of autoencoder.  It can automatically extract <b>meaningful</b> features from a given input.\n",
    "\n",
    "\n",
    "<h4>How does it work?</h4>\n",
    "RBM is a 2 layer neural network. Simply, RBM takes the inputs and translates those into a set of binary values that represents them in the hidden layer. Then, these numbers can be translated back to reconstruct the inputs. Through several forward and backward passes, the RBM will be trained, and a trained RBM can reveal which features are the most important ones when detecting patterns.   \n",
    "\n",
    "\n",
    "<h4>What are the applications of an RBM?</h4>\n",
    "RBM is useful for <a href='http://www.cs.utoronto.ca/~hinton/absps/netflixICML.pdf?utm_medium=Exinfluencer&utm_source=Exinfluencer&utm_content=000026UJ&utm_term=10006555&utm_id=NA-SkillsNetwork-Channel-SkillsNetworkCoursesIBMDeveloperSkillsNetworkDL0120ENSkillsNetwork954-2022-01-01'>  Collaborative Filtering</a>, dimensionality reduction, classification, regression, feature learning, topic modeling and even <b>Deep Belief Networks</b>.\n",
    "\n",
    "<h4>Is RBM a generative or Discriminative model?</h4>\n",
    "RBM is a generative model. Let me explain it by first, see what is different between discriminative and generative models: \n",
    "\n",
    "<b>Discriminative:</b> Consider a classification problem where we want to learn to distinguish between Sedan cars (y = 1) and SUV cars (y = 0), based on some features of cars. Given a training set, an algorithm like logistic regression tries to find a straight line, or <i>decision boundary</i>, that separates the suv and sedan.  \n",
    "\n",
    "<b>Generative:</b> looking at cars, we can build a model of what Sedan cars look like. Then, looking at SUVs, we can build a separate model of what SUV cars look like. Finally, to classify a new car, we can match the new car against the Sedan model, and match it against the SUV model, to see whether the new car looks more like the SUV or Sedan. \n",
    "\n",
    "Generative Models specify a probability distribution over a dataset of input vectors. We can carry out both supervised and unsupervised tasks with generative models:\n",
    "<ul>\n",
    "    <li>In an unsupervised task, we try to form a model for $P(x)$, where $P$ is the probability given $x$ as an input vector.</li>\n",
    "    <li>In the supervised task, we first form a model for $P(x|y)$, where $P$ is the probability of $x$ given $y$(the label for $x$). For example, if $y = 0$ indicates that a car is an SUV, and $y = 1$ indicates that a car is a sedan, then $p(x|y = 0)$ models the distribution of SUV features, and $p(x|y = 1)$ models the distribution of sedan features. If we manage to find $P(x|y)$ and $P(y)$, then we can use <b>Bayes rule</b> to estimate $P(y|x)$, because:   \n",
    "        $$p(y|x) = \\frac{p(x|y)p(y)}{p(x)}$$</li>\n",
    "</ul>\n",
    "Now the question is, can we build a generative model, and then use it to create synthetic data by directly sampling from the modeled probability distributions? Lets see. \n"
   ]
  },
  {
   "cell_type": "markdown",
   "metadata": {},
   "source": [
    "<h2>Table of Contents</h2>\n",
    "<ol>\n",
    "    <li><a href=\"#ref1\">Initialization</a></li>\n",
    "    <li><a href=\"#ref2\">RBM layers</a></li>\n",
    "    <li><a href=\"#ref3\">What RBM can do after training?</a></li>\n",
    "    <li><a href=\"#ref4\">How to train the model?</a></li>\n",
    "    <li><a href=\"#ref5\">Learned features</a></li>\n",
    "</ol>\n",
    "<p></p>\n",
    "</div>\n",
    "<br>\n",
    "\n",
    "<hr>\n"
   ]
  },
  {
   "cell_type": "markdown",
   "metadata": {},
   "source": [
    "<a id=\"ref1\"></a>\n",
    "<h3>Initialization</h3>\n",
    "\n",
    "First, we have to load the utility file which contains different utility functions that are not connected\n",
    "in any way to the networks presented in the tutorials, but rather help in\n",
    "processing the outputs into a more understandable way.\n"
   ]
  },
  {
   "cell_type": "code",
   "execution_count": 1,
   "metadata": {},
   "outputs": [],
   "source": [
    "import urllib.request\n",
    "with urllib.request.urlopen(\"https://cf-courses-data.s3.us.cloud-object-storage.appdomain.cloud/IBMDeveloperSkillsNetwork-DL0120EN-SkillsNetwork/labs/Week4/data/utils.py\") as url:\n",
    "    response = url.read()\n",
    "target = open('utils.py', 'w')\n",
    "target.write(response.decode('utf-8'))\n",
    "target.close()"
   ]
  },
  {
   "cell_type": "markdown",
   "metadata": {},
   "source": [
    "<h2>Installing TensorFlow </h2>\n",
    "\n",
    "We will installing TensorFlow version 2.2.0 and its required prerequistes.  Also installing pillow...\n"
   ]
  },
  {
   "cell_type": "code",
   "execution_count": 2,
   "metadata": {},
   "outputs": [
    {
     "name": "stdout",
     "output_type": "stream",
     "text": [
      "Requirement already satisfied: grpcio==1.24.3 in /home/jupyterlab/conda/envs/python/lib/python3.7/site-packages (1.24.3)\n",
      "Requirement already satisfied: six>=1.5.2 in /home/jupyterlab/conda/envs/python/lib/python3.7/site-packages (from grpcio==1.24.3) (1.16.0)\n",
      "Requirement already satisfied: tensorflow==2.2.0 in /home/jupyterlab/conda/envs/python/lib/python3.7/site-packages (2.2.0)\n",
      "Requirement already satisfied: astunparse==1.6.3 in /home/jupyterlab/conda/envs/python/lib/python3.7/site-packages (from tensorflow==2.2.0) (1.6.3)\n",
      "Requirement already satisfied: h5py<2.11.0,>=2.10.0 in /home/jupyterlab/conda/envs/python/lib/python3.7/site-packages (from tensorflow==2.2.0) (2.10.0)\n",
      "Requirement already satisfied: absl-py>=0.7.0 in /home/jupyterlab/conda/envs/python/lib/python3.7/site-packages (from tensorflow==2.2.0) (1.3.0)\n",
      "Requirement already satisfied: protobuf>=3.8.0 in /home/jupyterlab/conda/envs/python/lib/python3.7/site-packages (from tensorflow==2.2.0) (4.21.8)\n",
      "Requirement already satisfied: keras-preprocessing>=1.1.0 in /home/jupyterlab/conda/envs/python/lib/python3.7/site-packages (from tensorflow==2.2.0) (1.1.2)\n",
      "Requirement already satisfied: grpcio>=1.8.6 in /home/jupyterlab/conda/envs/python/lib/python3.7/site-packages (from tensorflow==2.2.0) (1.24.3)\n",
      "Requirement already satisfied: numpy<2.0,>=1.16.0 in /home/jupyterlab/conda/envs/python/lib/python3.7/site-packages (from tensorflow==2.2.0) (1.21.4)\n",
      "Requirement already satisfied: opt-einsum>=2.3.2 in /home/jupyterlab/conda/envs/python/lib/python3.7/site-packages (from tensorflow==2.2.0) (3.3.0)\n",
      "Requirement already satisfied: scipy==1.4.1 in /home/jupyterlab/conda/envs/python/lib/python3.7/site-packages (from tensorflow==2.2.0) (1.4.1)\n",
      "Requirement already satisfied: google-pasta>=0.1.8 in /home/jupyterlab/conda/envs/python/lib/python3.7/site-packages (from tensorflow==2.2.0) (0.2.0)\n",
      "Requirement already satisfied: gast==0.3.3 in /home/jupyterlab/conda/envs/python/lib/python3.7/site-packages (from tensorflow==2.2.0) (0.3.3)\n",
      "Requirement already satisfied: tensorboard<2.3.0,>=2.2.0 in /home/jupyterlab/conda/envs/python/lib/python3.7/site-packages (from tensorflow==2.2.0) (2.2.2)\n",
      "Requirement already satisfied: wheel>=0.26 in /home/jupyterlab/conda/envs/python/lib/python3.7/site-packages (from tensorflow==2.2.0) (0.38.4)\n",
      "Requirement already satisfied: tensorflow-estimator<2.3.0,>=2.2.0 in /home/jupyterlab/conda/envs/python/lib/python3.7/site-packages (from tensorflow==2.2.0) (2.2.0)\n",
      "Requirement already satisfied: wrapt>=1.11.1 in /home/jupyterlab/conda/envs/python/lib/python3.7/site-packages (from tensorflow==2.2.0) (1.14.1)\n",
      "Requirement already satisfied: six>=1.12.0 in /home/jupyterlab/conda/envs/python/lib/python3.7/site-packages (from tensorflow==2.2.0) (1.16.0)\n",
      "Requirement already satisfied: termcolor>=1.1.0 in /home/jupyterlab/conda/envs/python/lib/python3.7/site-packages (from tensorflow==2.2.0) (2.1.1)\n",
      "Requirement already satisfied: tensorboard-plugin-wit>=1.6.0 in /home/jupyterlab/conda/envs/python/lib/python3.7/site-packages (from tensorboard<2.3.0,>=2.2.0->tensorflow==2.2.0) (1.8.1)\n",
      "Requirement already satisfied: google-auth-oauthlib<0.5,>=0.4.1 in /home/jupyterlab/conda/envs/python/lib/python3.7/site-packages (from tensorboard<2.3.0,>=2.2.0->tensorflow==2.2.0) (0.4.6)\n",
      "Requirement already satisfied: google-auth<2,>=1.6.3 in /home/jupyterlab/conda/envs/python/lib/python3.7/site-packages (from tensorboard<2.3.0,>=2.2.0->tensorflow==2.2.0) (1.35.0)\n",
      "Requirement already satisfied: markdown>=2.6.8 in /home/jupyterlab/conda/envs/python/lib/python3.7/site-packages (from tensorboard<2.3.0,>=2.2.0->tensorflow==2.2.0) (3.4.1)\n",
      "Requirement already satisfied: werkzeug>=0.11.15 in /home/jupyterlab/conda/envs/python/lib/python3.7/site-packages (from tensorboard<2.3.0,>=2.2.0->tensorflow==2.2.0) (2.2.2)\n",
      "Requirement already satisfied: setuptools>=41.0.0 in /home/jupyterlab/conda/envs/python/lib/python3.7/site-packages (from tensorboard<2.3.0,>=2.2.0->tensorflow==2.2.0) (65.5.1)\n",
      "Requirement already satisfied: requests<3,>=2.21.0 in /home/jupyterlab/conda/envs/python/lib/python3.7/site-packages (from tensorboard<2.3.0,>=2.2.0->tensorflow==2.2.0) (2.28.1)\n",
      "Requirement already satisfied: rsa<5,>=3.1.4 in /home/jupyterlab/conda/envs/python/lib/python3.7/site-packages (from google-auth<2,>=1.6.3->tensorboard<2.3.0,>=2.2.0->tensorflow==2.2.0) (4.9)\n",
      "Requirement already satisfied: cachetools<5.0,>=2.0.0 in /home/jupyterlab/conda/envs/python/lib/python3.7/site-packages (from google-auth<2,>=1.6.3->tensorboard<2.3.0,>=2.2.0->tensorflow==2.2.0) (4.2.4)\n",
      "Requirement already satisfied: pyasn1-modules>=0.2.1 in /home/jupyterlab/conda/envs/python/lib/python3.7/site-packages (from google-auth<2,>=1.6.3->tensorboard<2.3.0,>=2.2.0->tensorflow==2.2.0) (0.2.8)\n",
      "Requirement already satisfied: requests-oauthlib>=0.7.0 in /home/jupyterlab/conda/envs/python/lib/python3.7/site-packages (from google-auth-oauthlib<0.5,>=0.4.1->tensorboard<2.3.0,>=2.2.0->tensorflow==2.2.0) (1.3.1)\n",
      "Requirement already satisfied: importlib-metadata>=4.4 in /home/jupyterlab/conda/envs/python/lib/python3.7/site-packages (from markdown>=2.6.8->tensorboard<2.3.0,>=2.2.0->tensorflow==2.2.0) (4.11.4)\n",
      "Requirement already satisfied: charset-normalizer<3,>=2 in /home/jupyterlab/conda/envs/python/lib/python3.7/site-packages (from requests<3,>=2.21.0->tensorboard<2.3.0,>=2.2.0->tensorflow==2.2.0) (2.1.1)\n",
      "Requirement already satisfied: certifi>=2017.4.17 in /home/jupyterlab/conda/envs/python/lib/python3.7/site-packages (from requests<3,>=2.21.0->tensorboard<2.3.0,>=2.2.0->tensorflow==2.2.0) (2022.9.24)\n",
      "Requirement already satisfied: urllib3<1.27,>=1.21.1 in /home/jupyterlab/conda/envs/python/lib/python3.7/site-packages (from requests<3,>=2.21.0->tensorboard<2.3.0,>=2.2.0->tensorflow==2.2.0) (1.26.13)\n",
      "Requirement already satisfied: idna<4,>=2.5 in /home/jupyterlab/conda/envs/python/lib/python3.7/site-packages (from requests<3,>=2.21.0->tensorboard<2.3.0,>=2.2.0->tensorflow==2.2.0) (3.4)\n",
      "Requirement already satisfied: MarkupSafe>=2.1.1 in /home/jupyterlab/conda/envs/python/lib/python3.7/site-packages (from werkzeug>=0.11.15->tensorboard<2.3.0,>=2.2.0->tensorflow==2.2.0) (2.1.1)\n",
      "Requirement already satisfied: typing-extensions>=3.6.4 in /home/jupyterlab/conda/envs/python/lib/python3.7/site-packages (from importlib-metadata>=4.4->markdown>=2.6.8->tensorboard<2.3.0,>=2.2.0->tensorflow==2.2.0) (4.4.0)\n",
      "Requirement already satisfied: zipp>=0.5 in /home/jupyterlab/conda/envs/python/lib/python3.7/site-packages (from importlib-metadata>=4.4->markdown>=2.6.8->tensorboard<2.3.0,>=2.2.0->tensorflow==2.2.0) (3.11.0)\n",
      "Requirement already satisfied: pyasn1<0.5.0,>=0.4.6 in /home/jupyterlab/conda/envs/python/lib/python3.7/site-packages (from pyasn1-modules>=0.2.1->google-auth<2,>=1.6.3->tensorboard<2.3.0,>=2.2.0->tensorflow==2.2.0) (0.4.8)\n",
      "Requirement already satisfied: oauthlib>=3.0.0 in /home/jupyterlab/conda/envs/python/lib/python3.7/site-packages (from requests-oauthlib>=0.7.0->google-auth-oauthlib<0.5,>=0.4.1->tensorboard<2.3.0,>=2.2.0->tensorflow==2.2.0) (3.2.2)\n",
      "Requirement already satisfied: pillow==8.1.0 in /home/jupyterlab/conda/envs/python/lib/python3.7/site-packages (8.1.0)\n"
     ]
    }
   ],
   "source": [
    "!pip install grpcio==1.24.3\n",
    "!pip install tensorflow==2.2.0\n",
    "!pip install pillow==8.1.0"
   ]
  },
  {
   "cell_type": "markdown",
   "metadata": {},
   "source": [
    "<b>Notice:</b> This notebook has been created with TensorFlow version 2.2, and might not work with other versions. Therefore we check:\n"
   ]
  },
  {
   "cell_type": "code",
   "execution_count": 3,
   "metadata": {},
   "outputs": [],
   "source": [
    "import tensorflow as tf\n",
    "from IPython.display import Markdown, display\n",
    "\n",
    "def printmd(string):\n",
    "    display(Markdown('# <span style=\"color:red\">'+string+'</span>'))\n",
    "\n",
    "\n",
    "if not tf.__version__ == '2.2.0':\n",
    "    printmd('<<<<<!!!!! ERROR !!!! please upgrade to TensorFlow 2.2.0, or restart your Kernel (Kernel->Restart & Clear Output)>>>>>')"
   ]
  },
  {
   "cell_type": "markdown",
   "metadata": {},
   "source": [
    "Now, we load in all the packages that we use to create the net including the TensorFlow package:\n"
   ]
  },
  {
   "cell_type": "code",
   "execution_count": 4,
   "metadata": {},
   "outputs": [],
   "source": [
    "import tensorflow as tf\n",
    "import numpy as np\n",
    "\n",
    "from PIL import Image\n",
    "from utils import tile_raster_images\n",
    "import matplotlib.pyplot as plt\n",
    "%matplotlib inline"
   ]
  },
  {
   "cell_type": "code",
   "execution_count": 5,
   "metadata": {},
   "outputs": [],
   "source": [
    "import numpy\n",
    "import matplotlib.pyplot as plt\n",
    "%matplotlib inline\n",
    "def scale_to_unit_interval(ndar, eps=1e-8):\n",
    "    \"\"\" Scales all values in the ndarray ndar to be between 0 and 1 \"\"\"\n",
    "    ndar = ndar.copy()\n",
    "    ndar -= ndar.min()\n",
    "    ndar *= 1.0 / (ndar.max() + eps)\n",
    "    return ndar\n",
    "\n",
    "def tile_raster_images(X, img_shape, tile_shape, tile_spacing=(0, 0),\n",
    "                       scale_rows_to_unit_interval=True,\n",
    "                       output_pixel_vals=True):\n",
    "    \"\"\"\n",
    "    Transform an array with one flattened image per row, into an array in\n",
    "    which images are reshaped and layed out like tiles on a floor.\n",
    "\n",
    "    This function is useful for visualizing datasets whose rows are images,\n",
    "    and also columns of matrices for transforming those rows\n",
    "    (such as the first layer of a neural net).\n",
    "\n",
    "    :type X: a 2-D ndarray or a tuple of 4 channels, elements of which can\n",
    "    be 2-D ndarrays or None;\n",
    "    :param X: a 2-D array in which every row is a flattened image.\n",
    "\n",
    "    :type img_shape: tuple; (height, width)\n",
    "    :param img_shape: the original shape of each image\n",
    "\n",
    "    :type tile_shape: tuple; (rows, cols)\n",
    "    :param tile_shape: the number of images to tile (rows, cols)\n",
    "\n",
    "    :param output_pixel_vals: if output should be pixel values (i.e. int8\n",
    "    values) or floats\n",
    "\n",
    "    :param scale_rows_to_unit_interval: if the values need to be scaled before\n",
    "    being plotted to [0,1] or not\n",
    "\n",
    "\n",
    "    :returns: array suitable for viewing as an image.\n",
    "    (See:`Image.fromarray`.)\n",
    "    :rtype: a 2-d array with same dtype as X.\n",
    "\n",
    "    \"\"\"\n",
    "\n",
    "    assert len(img_shape) == 2\n",
    "    assert len(tile_shape) == 2\n",
    "    assert len(tile_spacing) == 2\n",
    "\n",
    "    # The expression below can be re-written in a more C style as\n",
    "    # follows :\n",
    "    #\n",
    "    # out_shape    = [0,0]\n",
    "    # out_shape[0] = (img_shape[0]+tile_spacing[0])*tile_shape[0] -\n",
    "    #                tile_spacing[0]\n",
    "    # out_shape[1] = (img_shape[1]+tile_spacing[1])*tile_shape[1] -\n",
    "    #                tile_spacing[1]\n",
    "    out_shape = [\n",
    "        (ishp + tsp) * tshp - tsp\n",
    "        for ishp, tshp, tsp in zip(img_shape, tile_shape, tile_spacing)\n",
    "    ]\n",
    "\n",
    "    if isinstance(X, tuple):\n",
    "        assert len(X) == 4\n",
    "        # Create an output numpy ndarray to store the image\n",
    "        if output_pixel_vals:\n",
    "            out_array = numpy.zeros((out_shape[0], out_shape[1], 4),\n",
    "                                    dtype='uint8')\n",
    "        else:\n",
    "            out_array = numpy.zeros((out_shape[0], out_shape[1], 4),\n",
    "                                    dtype=X.dtype)\n",
    "\n",
    "        #colors default to 0, alpha defaults to 1 (opaque)\n",
    "        if output_pixel_vals:\n",
    "            channel_defaults = [0, 0, 0, 255]\n",
    "        else:\n",
    "            channel_defaults = [0., 0., 0., 1.]\n",
    "\n",
    "        for i in range(4):\n",
    "            if X[i] is None:\n",
    "                # if channel is None, fill it with zeros of the correct\n",
    "                # dtype\n",
    "                dt = out_array.dtype\n",
    "                if output_pixel_vals:\n",
    "                    dt = 'uint8'\n",
    "                out_array[:, :, i] = numpy.zeros(\n",
    "                    out_shape,\n",
    "                    dtype=dt\n",
    "                ) + channel_defaults[i]\n",
    "            else:\n",
    "                # use a recurrent call to compute the channel and store it\n",
    "                # in the output\n",
    "                out_array[:, :, i] = tile_raster_images(\n",
    "                    X[i], img_shape, tile_shape, tile_spacing,\n",
    "                    scale_rows_to_unit_interval, output_pixel_vals)\n",
    "        return out_array\n",
    "\n",
    "    else:\n",
    "        # if we are dealing with only one channel\n",
    "        H, W = img_shape\n",
    "        Hs, Ws = tile_spacing\n",
    "\n",
    "        # generate a matrix to store the output\n",
    "        dt = X.dtype\n",
    "        if output_pixel_vals:\n",
    "            dt = 'uint8'\n",
    "        out_array = numpy.zeros(out_shape, dtype=dt)\n",
    "\n",
    "        for tile_row in range(tile_shape[0]):\n",
    "            for tile_col in range(tile_shape[1]):\n",
    "                if tile_row * tile_shape[1] + tile_col < X.shape[0]:\n",
    "                    this_x = X[tile_row * tile_shape[1] + tile_col]\n",
    "                    if scale_rows_to_unit_interval:\n",
    "                        # if we should scale values to be between 0 and 1\n",
    "                        # do this by calling the `scale_to_unit_interval`\n",
    "                        # function\n",
    "                        this_img = scale_to_unit_interval(\n",
    "                            this_x.reshape(img_shape))\n",
    "                    else:\n",
    "                        this_img = this_x.reshape(img_shape)\n",
    "                    # add the slice to the corresponding position in the\n",
    "                    # output array\n",
    "                    c = 1\n",
    "                    if output_pixel_vals:\n",
    "                        c = 255\n",
    "                    out_array[\n",
    "                        tile_row * (H + Hs): tile_row * (H + Hs) + H,\n",
    "                        tile_col * (W + Ws): tile_col * (W + Ws) + W\n",
    "                    ] = this_img * c\n",
    "        return out_array\n"
   ]
  },
  {
   "cell_type": "markdown",
   "metadata": {},
   "source": [
    "<hr>\n"
   ]
  },
  {
   "cell_type": "markdown",
   "metadata": {},
   "source": [
    "<a id=\"ref2\"></a>\n",
    "<h3>RBM layers</h3>\n",
    "\n",
    "An RBM has two layers. The first layer of the RBM is called the <b>visible</b> (or input layer). Imagine that our toy example, has only vectors with 7 values, so the visible layer must have $V=7$ input nodes. \n",
    "The second layer is the <b>hidden</b> layer, which has $H$ neurons in our case. Each hidden node takes on values of either 0 or 1 (i.e., $h_i = 1$ or $h_i$ = 0), with a probability that is a logistic function of the inputs it receives from the other $V$ visible units, called for example, $p(h_i = 1)$. For our toy sample, we'll use 2 nodes in the hidden layer, so $H = 2$.\n",
    "\n",
    "<center><img src=\"https://ibm.box.com/shared/static/eu26opvcefgls6vnwuo29uwp0nudmokh.png\" alt=\"RBM Model\" style=\"width: 400px;\"></center>\n"
   ]
  },
  {
   "cell_type": "markdown",
   "metadata": {},
   "source": [
    "     \n",
    "\n",
    "Each node in the first layer also has a <b>bias</b>. We will denote the bias as $v_{bias}$, and this single value is shared among the $V$ visible units.\n",
    "\n",
    "The <b>bias</b> of the second is defined similarly as $h_{bias}$, and this single value among the $H$ hidden units.\n"
   ]
  },
  {
   "cell_type": "code",
   "execution_count": 6,
   "metadata": {},
   "outputs": [
    {
     "name": "stderr",
     "output_type": "stream",
     "text": [
      "2023-03-11 15:23:56.938245: W tensorflow/stream_executor/platform/default/dso_loader.cc:55] Could not load dynamic library 'libcuda.so.1'; dlerror: libcuda.so.1: cannot open shared object file: No such file or directory\n",
      "2023-03-11 15:23:56.938346: E tensorflow/stream_executor/cuda/cuda_driver.cc:313] failed call to cuInit: UNKNOWN ERROR (303)\n",
      "2023-03-11 15:23:56.938431: I tensorflow/stream_executor/cuda/cuda_diagnostics.cc:156] kernel driver does not appear to be running on this host (jupyterlab-limjingbin98): /proc/driver/nvidia/version does not exist\n",
      "2023-03-11 15:23:56.938967: I tensorflow/core/platform/cpu_feature_guard.cc:143] Your CPU supports instructions that this TensorFlow binary was not compiled to use: AVX2 FMA\n",
      "2023-03-11 15:23:56.996657: I tensorflow/core/platform/profile_utils/cpu_utils.cc:102] CPU Frequency: 2095120000 Hz\n",
      "2023-03-11 15:23:56.997994: I tensorflow/compiler/xla/service/service.cc:168] XLA service 0x7f2170000b20 initialized for platform Host (this does not guarantee that XLA will be used). Devices:\n",
      "2023-03-11 15:23:56.998049: I tensorflow/compiler/xla/service/service.cc:176]   StreamExecutor device (0): Host, Default Version\n"
     ]
    }
   ],
   "source": [
    "v_bias = tf.Variable(tf.zeros([7]), tf.float32)\n",
    "h_bias = tf.Variable(tf.zeros([2]), tf.float32)"
   ]
  },
  {
   "cell_type": "markdown",
   "metadata": {},
   "source": [
    "We have to define weights among the input layer and hidden layer nodes. In the weight matrix, the number of rows are equal to the input nodes, and the number of columns are equal to the output nodes. We define a tensor $\\mathbf{W}$ of shape = (7,2), where the number of visible neurons = 7, and the number of hidden neurons = 2. \n"
   ]
  },
  {
   "cell_type": "code",
   "execution_count": 7,
   "metadata": {},
   "outputs": [],
   "source": [
    "W = tf.constant(np.random.normal(loc=0.0, scale=1.0, size=(7, 2)).astype(np.float32))"
   ]
  },
  {
   "cell_type": "markdown",
   "metadata": {},
   "source": [
    "<hr>\n"
   ]
  },
  {
   "cell_type": "markdown",
   "metadata": {},
   "source": [
    "<a id=\"ref3\"></a>\n",
    "<h3>What RBM can do after training?</h3>\n",
    "Think of RBM as a model that has been trained based on images of a dataset of many SUV and sedan cars. Also, imagine that the RBM network has only two hidden nodes, where one node encodes the weight and, and the other encodes the size.  \n",
    "In a sense, the different configurations represent different cars, where one is an SUV and the other is Sedan.  In a training process, through many forward and backward passes, the RBM adjust its weights to send a stronger signal to either the SUV node (0, 1) or the sedan node (1, 0) in the hidden layer, given the pixels of images. Now, given an SUV in hidden layer, which distribution of pixels should we expect? RBM can give you 2 things. First, it encodes your images in hidden layer. Second, it gives you the probability of observing a case, given some hidden values.\n",
    "\n",
    "\n",
    "<h3>The Inference Process</h3>\n",
    "\n",
    "RBM has two phases:\n",
    "<ul>\n",
    "    <li>Forward Pass</li>  \n",
    "    <li>Backward Pass or Reconstruction</li>\n",
    "</ul>\n",
    "\n",
    "<b>Phase 1) Forward pass:</b>  \n",
    "\n",
    "Input one training sample (one image) $\\mathbf{x}$ through all visible nodes, and pass it to all hidden nodes. Processing happens in each node in the hidden layer. This computation begins by making stochastic decisions about whether to transmit that input or not (i.e. to determine the state of each hidden layer).  First, the probability vector is computed using the input feature vector $\\mathbf{x}$, the weight matrix $\\mathbf{W}$, and the bias term $h_{bias}$, as \n",
    "\n",
    "\n",
    "$$p({h_j}|\\mathbf x)= \\sigma( \\sum_{i=1}^V W_{ij} x_i + h_{bias} )$$, \n",
    "\n",
    "where $\\sigma(z) = (1+e^{-z})^{-1}$ is the logistic function.\n",
    "\n",
    "\n",
    "So, what does $p({h_j})$ represent? It is the <b>probability distribution</b> of the hidden units. That is, RBM uses inputs $x_i$ to make predictions about hidden node activations. For example, imagine that the hidden node activation values are [0.51 0.84] for the first training item. It tells you that the conditional probability for each hidden neuron for Phase 1 is: \n",
    "\n",
    "$$p(h_{1} = 1|\\mathbf{v}) = 0.51$$\n",
    "$$p(h_{2} = 1|\\mathbf{v}) = 0.84$$\n",
    "\n",
    "As a result, for each row in the training set, vector of probabilities is generated.  In TensorFlow, this is referred to as a `tensor` with a shape of (1,2). \n",
    "\n",
    "We then turn unit $j$ with probability $p(h_{j}|\\mathbf{v})$, and turn it off with probability $1 - p(h_{j}|\\mathbf{v})$ by generating a uniform random number vector $\\mathbf{\\xi}$, and comparing it to the activation probability as \n",
    "\n",
    "<center>If $\\xi_j>p(h_{j}|\\mathbf{v})$, then $h_j=1$, else $h_j=0$.</center>\n",
    "\n",
    "\n",
    "Therefore, the conditional probability of a configuration of $\\mathbf{h}$ given $\\mathbf{v}$ (for a training sample) is:\n",
    "\n",
    "$$p(\\mathbf{h} \\mid \\mathbf{v}) = \\prod_{j=1}^H p(h_j \\mid \\mathbf{v})$$\n",
    "\n",
    "\n",
    "where $H$ is the number of hidden units.\n",
    "\n"
   ]
  },
  {
   "cell_type": "markdown",
   "metadata": {},
   "source": [
    "Before we go further, let's look at a toy example for one case out of all input. Assume that we have a trained RBM, and a very simple input vector, such as [1.0, 0.0, 0.0, 1.0, 0.0, 0.0, 0.0].   \n",
    "Let's see what the output of forward pass would look like:\n"
   ]
  },
  {
   "cell_type": "code",
   "execution_count": 8,
   "metadata": {},
   "outputs": [
    {
     "name": "stdout",
     "output_type": "stream",
     "text": [
      "Input:  tf.Tensor([[1. 0. 0. 1. 0. 0. 0.]], shape=(1, 7), dtype=float32)\n",
      "hb:  tf.Tensor([0.1 0.1], shape=(2,), dtype=float32)\n",
      "w:  tf.Tensor(\n",
      "[[-0.06648747 -1.0752327 ]\n",
      " [ 0.19174685  0.32054374]\n",
      " [ 2.2370527  -1.4350717 ]\n",
      " [ 0.73561895  2.0360837 ]\n",
      " [-1.1377608   0.27913117]\n",
      " [-0.84130347  0.09203556]\n",
      " [-1.9610921  -0.06392608]], shape=(7, 2), dtype=float32)\n",
      "p(h|v):  tf.Tensor([[0.683333  0.7428531]], shape=(1, 2), dtype=float32)\n",
      "h0 states: tf.Tensor([[0. 1.]], shape=(1, 2), dtype=float32)\n"
     ]
    }
   ],
   "source": [
    "X = tf.constant([[1.0, 0.0, 0.0, 1.0, 0.0, 0.0, 0.0]], tf.float32)\n",
    "\n",
    "v_state = X\n",
    "print (\"Input: \", v_state)\n",
    "\n",
    "h_bias = tf.constant([0.1, 0.1])\n",
    "print (\"hb: \", h_bias)\n",
    "print (\"w: \", W)\n",
    "\n",
    "# Calculate the probabilities of turning the hidden units on:\n",
    "h_prob = tf.nn.sigmoid(tf.matmul(v_state, W) + h_bias)  #probabilities of the hidden units\n",
    "print (\"p(h|v): \", h_prob)\n",
    "\n",
    "# Draw samples from the distribution:\n",
    "h_state = tf.nn.relu(tf.sign(h_prob - tf.random.uniform(tf.shape(h_prob)))) #states\n",
    "print (\"h0 states:\", h_state)"
   ]
  },
  {
   "cell_type": "markdown",
   "metadata": {},
   "source": [
    "<b>Phase 2) Backward Pass (Reconstruction):</b>\n",
    "The RBM reconstructs data by making several forward and backward passes between the visible and hidden layers.\n",
    "\n",
    "So, in the second phase (i.e. reconstruction phase), the samples from the hidden layer (i.e. $\\mathbf h$) becomes the input in the backward pass. The same weight matrix and visible layer biases are used to passed to the sigmoid function. The reproduced output is a reconstruction which is an approximation of the original input.\n"
   ]
  },
  {
   "cell_type": "code",
   "execution_count": 9,
   "metadata": {},
   "outputs": [
    {
     "name": "stdout",
     "output_type": "stream",
     "text": [
      "b:  tf.Tensor([0.1 0.2 0.1 0.1 0.1 0.2 0.1], shape=(7,), dtype=float32)\n",
      "p(vi∣h):  tf.Tensor(\n",
      "[[0.27383876 0.6272749  0.20832169 0.8943612  0.5936635  0.5724944\n",
      "  0.5090175 ]], shape=(1, 7), dtype=float32)\n",
      "v probability states:  tf.Tensor([[0. 0. 0. 0. 0. 0. 1.]], shape=(1, 7), dtype=float32)\n"
     ]
    }
   ],
   "source": [
    "vb = tf.constant([0.1, 0.2, 0.1, 0.1, 0.1, 0.2, 0.1])\n",
    "print (\"b: \", vb)\n",
    "v_prob = tf.nn.sigmoid(tf.matmul(h_state, tf.transpose(W)) + vb)\n",
    "print (\"p(vi∣h): \", v_prob)\n",
    "v_state = tf.nn.relu(tf.sign(v_prob - tf.random.uniform(tf.shape(v_prob))))\n",
    "print (\"v probability states: \", v_state)"
   ]
  },
  {
   "cell_type": "markdown",
   "metadata": {},
   "source": [
    "RBM learns a probability distribution over the input, and then, after being trained, the RBM can generate new samples from the learned probability distribution. As you know, <b>probability distribution</b>, is a mathematical function that provides the probabilities of occurrence of different possible outcomes in an experiment.\n",
    "\n",
    "The (conditional) probability distribution over the visible units v is given by\n",
    "\n",
    "$$p(\\mathbf{v} \\mid \\mathbf{h}) = \\prod_{i=1}^V p(v_i \\mid \\mathbf{h}),$$\n",
    "\n",
    "\n",
    "where,\n",
    "\n",
    "$$p(v_i \\mid \\mathbf{h}) = \\sigma\\left(\\sum_{j=1}^H W_{ji} h_j + v_{bias} \\right)$$\n",
    "\n",
    "so, given current state of hidden units and weights, what is the probability of generating [1. 0. 0. 1. 0. 0. 0.] in reconstruction phase, based on the above <b>probability distribution</b> function?\n"
   ]
  },
  {
   "cell_type": "code",
   "execution_count": 10,
   "metadata": {},
   "outputs": [
    {
     "name": "stdout",
     "output_type": "stream",
     "text": [
      "input X: [[1. 0. 0. 1. 0. 0. 0.]]\n",
      "probablity vector: [0.27383876 0.6272749  0.20832169 0.8943612  0.5936635  0.5724944\n",
      " 0.5090175 ]\n",
      "probability of generating X:  0.006163663\n"
     ]
    }
   ],
   "source": [
    "inp = X\n",
    "print(\"input X:\" , inp.numpy())\n",
    "\n",
    "print(\"probablity vector:\" , v_prob[0].numpy())\n",
    "v_probability = 1\n",
    "\n",
    "for elm, p in zip(inp[0],v_prob[0]) :\n",
    "    if elm ==1:\n",
    "        v_probability *= p\n",
    "    else:\n",
    "        v_probability *= (1-p)\n",
    "\n",
    "print(\"probability of generating X: \" , v_probability.numpy())"
   ]
  },
  {
   "cell_type": "markdown",
   "metadata": {},
   "source": [
    "How similar are vectors $\\mathbf{x}$ and $\\mathbf{v}$? Of course, the reconstructed values most likely will not look anything like the input vector, because our network has not been trained yet. Our objective is to train the model in such a way that the input vector and reconstructed vector to be same. Therefore, based on how different the input values look to the ones that we just reconstructed, the weights are adjusted. \n"
   ]
  },
  {
   "cell_type": "markdown",
   "metadata": {},
   "source": [
    "<hr>\n"
   ]
  },
  {
   "cell_type": "markdown",
   "metadata": {},
   "source": [
    "\n",
    "<h2>MNIST</h2>\n"
   ]
  },
  {
   "cell_type": "markdown",
   "metadata": {},
   "source": [
    "We will be using the MNIST dataset to practice the usage of RBMs. The following cell loads the MNIST dataset.\n"
   ]
  },
  {
   "cell_type": "code",
   "execution_count": 11,
   "metadata": {},
   "outputs": [],
   "source": [
    "#loading training and test data\n",
    "mnist = tf.keras.datasets.mnist\n",
    "(trX, trY), (teX, teY) = mnist.load_data()\n",
    "\n",
    "# showing an example of the Flatten class and operation\n",
    "from tensorflow.keras.layers import Flatten\n",
    "flatten = Flatten(dtype='float32')\n",
    "trX = flatten(trX/255.0)\n",
    "trY = flatten(trY/255.0)"
   ]
  },
  {
   "cell_type": "markdown",
   "metadata": {},
   "source": [
    "Lets look at the dimension of the images.\n"
   ]
  },
  {
   "cell_type": "markdown",
   "metadata": {},
   "source": [
    "MNIST images have 784 pixels, so the visible layer must have 784 input nodes.  For our case, we'll use 50 nodes in the hidden layer, so i = 50.\n"
   ]
  },
  {
   "cell_type": "code",
   "execution_count": 12,
   "metadata": {},
   "outputs": [],
   "source": [
    "vb = tf.Variable(tf.zeros([784]), tf.float32)\n",
    "hb = tf.Variable(tf.zeros([50]), tf.float32)"
   ]
  },
  {
   "cell_type": "markdown",
   "metadata": {},
   "source": [
    "Let $\\mathbf W$ be the Tensor of 784x50 (784 - number of visible neurons, 50 - number of hidden neurons) that represents weights between the neurons. \n"
   ]
  },
  {
   "cell_type": "code",
   "execution_count": 13,
   "metadata": {},
   "outputs": [],
   "source": [
    "W = tf.Variable(tf.zeros([784,50]), tf.float32)"
   ]
  },
  {
   "cell_type": "markdown",
   "metadata": {},
   "source": [
    "Lets define the visible layer:\n"
   ]
  },
  {
   "cell_type": "code",
   "execution_count": 14,
   "metadata": {},
   "outputs": [
    {
     "data": {
      "text/plain": [
       "<tf.Tensor: shape=(1, 50), dtype=float32, numpy=\n",
       "array([[0., 0., 0., 0., 0., 0., 0., 0., 0., 0., 0., 0., 0., 0., 0., 0.,\n",
       "        0., 0., 0., 0., 0., 0., 0., 0., 0., 0., 0., 0., 0., 0., 0., 0.,\n",
       "        0., 0., 0., 0., 0., 0., 0., 0., 0., 0., 0., 0., 0., 0., 0., 0.,\n",
       "        0., 0.]], dtype=float32)>"
      ]
     },
     "execution_count": 14,
     "metadata": {},
     "output_type": "execute_result"
    }
   ],
   "source": [
    "v0_state = tf.Variable(tf.zeros([784]), tf.float32)\n",
    "\n",
    "#testing to see if the matrix product works\n",
    "tf.matmul( [v0_state], W)"
   ]
  },
  {
   "cell_type": "markdown",
   "metadata": {},
   "source": [
    "Now, we can define hidden layer:\n"
   ]
  },
  {
   "cell_type": "code",
   "execution_count": 15,
   "metadata": {},
   "outputs": [
    {
     "name": "stdout",
     "output_type": "stream",
     "text": [
      "h0_state shape:  tf.Tensor([ 1 50], shape=(2,), dtype=int32)\n",
      "first 15 hidden states:  tf.Tensor([0. 0. 1. 0. 1. 1. 1. 0. 1. 1. 1. 0. 0. 1. 0.], shape=(15,), dtype=float32)\n"
     ]
    }
   ],
   "source": [
    "#computing the hidden nodes probability vector and checking shape\n",
    "h0_prob = tf.nn.sigmoid(tf.matmul([v0_state], W) + hb)  #probabilities of the hidden units\n",
    "print(\"h0_state shape: \" , tf.shape(h0_prob))\n",
    "\n",
    "#defining a function to return only the generated hidden states \n",
    "def hidden_layer(v0_state, W, hb):\n",
    "    h0_prob = tf.nn.sigmoid(tf.matmul([v0_state], W) + hb)  #probabilities of the hidden units\n",
    "    h0_state = tf.nn.relu(tf.sign(h0_prob - tf.random.uniform(tf.shape(h0_prob)))) #sample_h_given_X\n",
    "    return h0_state\n",
    "\n",
    "\n",
    "h0_state = hidden_layer(v0_state, W, hb)\n",
    "print(\"first 15 hidden states: \", h0_state[0][0:15])"
   ]
  },
  {
   "cell_type": "markdown",
   "metadata": {},
   "source": [
    "Now, we define reconstruction part:\n"
   ]
  },
  {
   "cell_type": "code",
   "execution_count": 16,
   "metadata": {},
   "outputs": [
    {
     "name": "stdout",
     "output_type": "stream",
     "text": [
      "hidden state shape:  (1, 50)\n",
      "v0 state shape:   (784,)\n",
      "v1 state shape:   (784,)\n"
     ]
    }
   ],
   "source": [
    "def reconstructed_output(h0_state, W, vb):\n",
    "    v1_prob = tf.nn.sigmoid(tf.matmul(h0_state, tf.transpose(W)) + vb) \n",
    "    v1_state = tf.nn.relu(tf.sign(v1_prob - tf.random.uniform(tf.shape(v1_prob)))) #sample_v_given_h\n",
    "    return v1_state[0]\n",
    "\n",
    "v1_state = reconstructed_output(h0_state, W, vb)\n",
    "print(\"hidden state shape: \", h0_state.shape)\n",
    "print(\"v0 state shape:  \", v0_state.shape)\n",
    "print(\"v1 state shape:  \", v1_state.shape)"
   ]
  },
  {
   "cell_type": "markdown",
   "metadata": {},
   "source": [
    "<h3>What is the objective function?</h3>\n",
    "\n",
    "<b>Goal</b>: Maximize the likelihood of our data being drawn from that distribution\n",
    "\n",
    "<b>Calculate error:</b>  \n",
    "In each epoch, we compute the \"error\" as a sum of the squared difference between step 1 and step n,\n",
    "e.g the error shows the difference between the data and its reconstruction.\n",
    "\n",
    "<b>Note:</b> tf.reduce_mean computes the mean of elements across dimensions of a tensor.\n"
   ]
  },
  {
   "cell_type": "code",
   "execution_count": 17,
   "metadata": {},
   "outputs": [
    {
     "name": "stdout",
     "output_type": "stream",
     "text": [
      "error 0.52933675\n"
     ]
    }
   ],
   "source": [
    "def error(v0_state, v1_state):\n",
    "    return tf.reduce_mean(tf.square(v0_state - v1_state))\n",
    "\n",
    "err = tf.reduce_mean(tf.square(v0_state - v1_state))\n",
    "print(\"error\" , err.numpy())"
   ]
  },
  {
   "cell_type": "markdown",
   "metadata": {},
   "source": [
    "<a id=\"ref4\"></a>\n",
    "<h3>Training the Model</h3>\n",
    "<b>Warning...</b> The following part is math-heavy, but you can skip it if you just want to run the cells in the next section.\n",
    "\n",
    "As mentioned, we want to give a high probability to the input data we train on. So, in order to train an RBM, we have to maximize the product of probabilities assigned to all rows $\\mathbf{v}$ (images) in the training set $\\mathbf{V}$ (a matrix, where each row of it is treated as a visible vector $\\mathbf{v}$)\n",
    "\n",
    "$$\\arg \\max_W \\prod_{\\mathbf{v}\\in\\mathbf{V}_T} p(\\mathbf{v})$$\n",
    "\n",
    "\n",
    "which is equivalent to maximizing the expectation of the log probability, given as\n",
    "\n",
    "$$\\arg\\max_W\\left[ \\mathbb{E} \\left(\\prod_{\\mathbf v\\in \\mathbf V}\\text{log} \\left(p(\\mathbf v)\\right) \\right) \\right].$$\n",
    "\n",
    "\n",
    "So, we have to update the weights $W_{ij}$  to increase $p(\\mathbf{v})$ for all $\\mathbf{v}$ in our training data during training. So we have to calculate the derivative:\n",
    "\n",
    "\n",
    "$$\\frac{\\partial \\log p(\\mathbf v)}{\\partial W_{ij}}$$\n",
    "\n",
    "This cannot be easily done by typical <b>gradient descent (SGD)</b>, so we can use another approach, which has 2 steps:\n",
    "<ol>\n",
    "    <li>Gibbs Sampling</li>\n",
    "    <li>Contrastive Divergence</li>\n",
    "</ol>    \n",
    "    \n",
    "<h3>Gibbs Sampling</h3>   \n",
    "\n",
    "<h4>Gibbs Sampling Step 1</h4> \n",
    "Given an input vector $\\mathbf{v}$, we are using $p(\\mathbf{h}|\\mathbf{v})$ to predict the hidden values $\\mathbf{h}$. \n",
    "  $$p({h_j}|\\mathbf v)= \\sigma\\left(\\sum_{i=1}^V W_{ij} v_i + h_{bias} \\right)$$\n",
    "The samples are generated from this distribution by generating the uniform random variate vector $\\mathbf{\\xi} \\sim U[0,1]$ of length $H$ and comparing to the computed probabilities as\n",
    "\n",
    "\n",
    "<center>If $\\xi_j>p(h_{j}|\\mathbf{v})$, then $h_j=1$, else $h_j=0$.</center>\n",
    "\n",
    "\n",
    "<h4>Gibbs Sampling Step 2</h4> \n",
    "Then, knowing the hidden values, we use $p(\\mathbf v| \\mathbf h)$ for reconstructing of new input values v. \n",
    "\n",
    "   $$p({v_i}|\\mathbf h)= \\sigma\\left(\\sum_{j=1}^H W^{T}_{ij} h_j + v_{bias} \\right)$$\n",
    "\n",
    "\n",
    "The samples are generated from this distribution by generating a uniform random variate vector $\\mathbf{\\xi} \\sim U[0,1]$ of length $V$ and comparing to the computed probabilities as\n",
    "\n",
    "<center>If $\\xi_i>p(v_{i}|\\mathbf{h})$, then $v_i=1$, else $v_i=0$.</center>\n",
    "\n",
    "Let vectors $\\mathbf v_k$ and $\\mathbf h_k$ be for the $k$th iteration.  In general, the $kth$ state is generrated as: \n",
    "\n",
    "\n",
    "    \n",
    "<b>Iteration</b> $k$: \n",
    "\n",
    "$$\\mathbf v_{k-1} \\Rightarrow p(\\mathbf h_{k-1}|\\mathbf v_{k-1})\\Rightarrow \\mathbf h_{k-1}\\Rightarrow p(\\mathbf v_{k}|\\mathbf h_{k-1})\\Rightarrow \\mathbf v_k$$       \n",
    "    \n",
    "<h3>Contrastive Divergence (CD-k)</h3>\n",
    "The update of the weight matrix is done during the Contrastive Divergence step. \n",
    "\n",
    "Vectors v0 and vk are used to calculate the activation probabilities for hidden values h0 and hk. The difference between the outer products of those probabilities with input vectors v0 and vk results in the update matrix:\n",
    "\n",
    "\n",
    "$$\\Delta \\mathbf W_k =\\mathbf v_k \\otimes \\mathbf h_k - \\mathbf v_{k-1} \\otimes \\mathbf h_{k-1}$$\n",
    "\n",
    "Contrastive Divergence is actually matrix of values that is computed and used to adjust values of the $\\mathbf W$ matrix. Changing $\\mathbf W$ incrementally leads to training of the  $\\mathbf W$ values. Then, on each step (epoch), $\\mathbf W$ is updated using the following:\n",
    "\n",
    "$$\\mathbf W_k = \\mathbf W_{k-1} + \\alpha * \\Delta \\mathbf W_k$$\n",
    "\n",
    "\n",
    "\n",
    "Reconstruction steps:\n",
    "<ul>\n",
    "    <li> Get one data point from data set, like <i>x</i>, and pass it through the following steps:</li>\n",
    "    \n",
    "<b>Iteration</b> $k=1$: \n",
    "    \n",
    "Sampling (starting with input image)\n",
    "    $$\\mathbf x = \\mathbf v_0 \\Rightarrow p(\\mathbf h_0|\\mathbf v_0)\\Rightarrow \\mathbf h_0 \\Rightarrow p(\\mathbf v_1|\\mathbf h_0)\\Rightarrow \\mathbf v_1$$   \n",
    "    followed by the CD-k step\n",
    "$$\\Delta \\mathbf W_1 =\\mathbf v_1 \\otimes \\mathbf h_1 - \\mathbf v_{0} \\otimes \\mathbf h_{0}$$     \n",
    "$$\\mathbf W_1 = \\mathbf W_{0} + \\alpha * \\Delta \\mathbf W_1$$ \n",
    " \n",
    "<li> $\\mathbf v_1$ is the reconstruction of $\\mathbf x$ sent to the next iteration).</li>\n",
    "\n",
    "<b>Iteration</b> $k=2$: \n",
    "\n",
    "Sampling (starting with $\\mathbf v_1$)\n",
    "\n",
    "$$\\mathbf v_1 \\Rightarrow p(\\mathbf h_1|\\mathbf v_1)\\Rightarrow \\mathbf h_1\\Rightarrow p(\\mathbf v_2|\\mathbf h_1)\\Rightarrow \\mathbf v_2$$   \n",
    "\n",
    "followed by the CD-k step\n",
    "$$\\Delta \\mathbf W_2 =\\mathbf v_2 \\otimes \\mathbf h_2 - \\mathbf v_{1} \\otimes \\mathbf h_{1}$$     \n",
    "$$\\mathbf W_2 = \\mathbf W_{1} + \\alpha * \\Delta \\mathbf W_2$$ \n",
    "\n",
    "<li> $\\mathbf v_2$ is the reconstruction of $\\mathbf v_1$ sent to the next iteration).</li>    \n",
    "      \n",
    "<b>Iteration</b> $k=K$:\n",
    "    \n",
    "Sampling (starting with $\\mathbf v_{K-1}$)\n",
    "\n",
    "$$\\mathbf v_{K-1} \\Rightarrow p(\\mathbf h_{K-1}|\\mathbf v_{K-1})\\Rightarrow \\mathbf h_{K-1}\\Rightarrow p(\\mathbf v_K|\\mathbf h_{K-1})\\Rightarrow \\mathbf v_K$$   \n",
    "\n",
    "followed by the CD-k step\n",
    "$$\\Delta \\mathbf W_K =\\mathbf v_K \\otimes \\mathbf h_K - \\mathbf v_{K-1} \\otimes \\mathbf h_{K-1}$$     \n",
    "$$\\mathbf W_K = \\mathbf W_{K-1} + \\alpha * \\Delta \\mathbf W_K$$ \n",
    "    \n",
    "<b>What is $\\alpha$?</b>  \n",
    "Here, alpha is some small step size, and is also known as the \"learning rate\".\n"
   ]
  },
  {
   "cell_type": "markdown",
   "metadata": {},
   "source": [
    "$K$ is adjustable, and good performance can be achieved with $K=1$, so that we just take one set of sampling steps per image.\n"
   ]
  },
  {
   "cell_type": "code",
   "execution_count": 18,
   "metadata": {},
   "outputs": [],
   "source": [
    "h1_prob = tf.nn.sigmoid(tf.matmul([v1_state], W) + hb)\n",
    "h1_state = tf.nn.relu(tf.sign(h1_prob - tf.random.uniform(tf.shape(h1_prob)))) #sample_h_given_X"
   ]
  },
  {
   "cell_type": "markdown",
   "metadata": {},
   "source": [
    "Lets look at the error of the first run:\n"
   ]
  },
  {
   "cell_type": "code",
   "execution_count": 19,
   "metadata": {},
   "outputs": [
    {
     "name": "stdout",
     "output_type": "stream",
     "text": [
      "error:  tf.Tensor(0.52933675, shape=(), dtype=float32)\n"
     ]
    }
   ],
   "source": [
    "print(\"error: \", error(v0_state, v1_state))"
   ]
  },
  {
   "cell_type": "code",
   "execution_count": 20,
   "metadata": {},
   "outputs": [
    {
     "name": "stdout",
     "output_type": "stream",
     "text": [
      "Epoch: 0 batch #: 1  of 300 sample #: 199 reconstruction error: 0.155845\n",
      "Epoch: 0 batch #: 2  of 300 sample #: 199 reconstruction error: 0.190484\n",
      "Epoch: 0 batch #: 3  of 300 sample #: 199 reconstruction error: 0.101772\n",
      "Epoch: 0 batch #: 4  of 300 sample #: 199 reconstruction error: 0.106204\n",
      "Epoch: 0 batch #: 5  of 300 sample #: 199 reconstruction error: 0.110317\n",
      "Epoch: 0 batch #: 6  of 300 sample #: 199 reconstruction error: 0.192436\n",
      "Epoch: 0 batch #: 7  of 300 sample #: 199 reconstruction error: 0.080491\n",
      "Epoch: 0 batch #: 8  of 300 sample #: 199 reconstruction error: 0.120974\n",
      "Epoch: 0 batch #: 9  of 300 sample #: 199 reconstruction error: 0.110892\n",
      "Epoch: 0 batch #: 10  of 300 sample #: 199 reconstruction error: 0.172360\n",
      "Epoch: 0 batch #: 11  of 300 sample #: 199 reconstruction error: 0.081652\n",
      "Epoch: 0 batch #: 12  of 300 sample #: 199 reconstruction error: 0.136711\n",
      "Epoch: 0 batch #: 13  of 300 sample #: 199 reconstruction error: 0.057551\n",
      "Epoch: 0 batch #: 14  of 300 sample #: 199 reconstruction error: 0.103783\n",
      "Epoch: 0 batch #: 15  of 300 sample #: 199 reconstruction error: 0.111205\n",
      "Epoch: 0 batch #: 16  of 300 sample #: 199 reconstruction error: 0.113700\n",
      "Epoch: 0 batch #: 17  of 300 sample #: 199 reconstruction error: 0.076383\n",
      "Epoch: 0 batch #: 18  of 300 sample #: 199 reconstruction error: 0.134710\n",
      "Epoch: 0 batch #: 19  of 300 sample #: 199 reconstruction error: 0.140116\n",
      "Epoch: 0 batch #: 20  of 300 sample #: 199 reconstruction error: 0.115622\n",
      "Epoch: 0 batch #: 21  of 300 sample #: 199 reconstruction error: 0.090349\n",
      "Epoch: 0 batch #: 22  of 300 sample #: 199 reconstruction error: 0.074618\n",
      "Epoch: 0 batch #: 23  of 300 sample #: 199 reconstruction error: 0.101696\n",
      "Epoch: 0 batch #: 24  of 300 sample #: 199 reconstruction error: 0.129011\n",
      "Epoch: 0 batch #: 25  of 300 sample #: 199 reconstruction error: 0.114931\n",
      "Epoch: 0 batch #: 26  of 300 sample #: 199 reconstruction error: 0.109971\n",
      "Epoch: 0 batch #: 27  of 300 sample #: 199 reconstruction error: 0.106767\n",
      "Epoch: 0 batch #: 28  of 300 sample #: 199 reconstruction error: 0.076072\n",
      "Epoch: 0 batch #: 29  of 300 sample #: 199 reconstruction error: 0.087260\n",
      "Epoch: 0 batch #: 30  of 300 sample #: 199 reconstruction error: 0.063783\n",
      "Epoch: 0 batch #: 31  of 300 sample #: 199 reconstruction error: 0.092844\n",
      "Epoch: 0 batch #: 32  of 300 sample #: 199 reconstruction error: 0.103278\n",
      "Epoch: 0 batch #: 33  of 300 sample #: 199 reconstruction error: 0.058327\n",
      "Epoch: 0 batch #: 34  of 300 sample #: 199 reconstruction error: 0.068367\n",
      "Epoch: 0 batch #: 35  of 300 sample #: 199 reconstruction error: 0.080693\n",
      "Epoch: 0 batch #: 36  of 300 sample #: 199 reconstruction error: 0.075830\n",
      "Epoch: 0 batch #: 37  of 300 sample #: 199 reconstruction error: 0.064259\n",
      "Epoch: 0 batch #: 38  of 300 sample #: 199 reconstruction error: 0.067062\n",
      "Epoch: 0 batch #: 39  of 300 sample #: 199 reconstruction error: 0.077686\n",
      "Epoch: 0 batch #: 40  of 300 sample #: 199 reconstruction error: 0.113485\n",
      "Epoch: 0 batch #: 41  of 300 sample #: 199 reconstruction error: 0.072591\n",
      "Epoch: 0 batch #: 42  of 300 sample #: 199 reconstruction error: 0.074948\n",
      "Epoch: 0 batch #: 43  of 300 sample #: 199 reconstruction error: 0.110658\n",
      "Epoch: 0 batch #: 44  of 300 sample #: 199 reconstruction error: 0.059490\n",
      "Epoch: 0 batch #: 45  of 300 sample #: 199 reconstruction error: 0.062153\n",
      "Epoch: 0 batch #: 46  of 300 sample #: 199 reconstruction error: 0.026469\n",
      "Epoch: 0 batch #: 47  of 300 sample #: 199 reconstruction error: 0.043612\n",
      "Epoch: 0 batch #: 48  of 300 sample #: 199 reconstruction error: 0.036960\n",
      "Epoch: 0 batch #: 49  of 300 sample #: 199 reconstruction error: 0.106226\n",
      "Epoch: 0 batch #: 50  of 300 sample #: 199 reconstruction error: 0.046951\n",
      "Epoch: 0 batch #: 51  of 300 sample #: 199 reconstruction error: 0.063646\n",
      "Epoch: 0 batch #: 52  of 300 sample #: 199 reconstruction error: 0.030583\n",
      "Epoch: 0 batch #: 53  of 300 sample #: 199 reconstruction error: 0.086769\n",
      "Epoch: 0 batch #: 54  of 300 sample #: 199 reconstruction error: 0.046462\n",
      "Epoch: 0 batch #: 55  of 300 sample #: 199 reconstruction error: 0.100546\n",
      "Epoch: 0 batch #: 56  of 300 sample #: 199 reconstruction error: 0.046076\n",
      "Epoch: 0 batch #: 57  of 300 sample #: 199 reconstruction error: 0.037840\n",
      "Epoch: 0 batch #: 58  of 300 sample #: 199 reconstruction error: 0.067614\n",
      "Epoch: 0 batch #: 59  of 300 sample #: 199 reconstruction error: 0.059742\n",
      "Epoch: 0 batch #: 60  of 300 sample #: 199 reconstruction error: 0.096856\n",
      "Epoch: 0 batch #: 61  of 300 sample #: 199 reconstruction error: 0.074024\n",
      "Epoch: 0 batch #: 62  of 300 sample #: 199 reconstruction error: 0.079843\n",
      "Epoch: 0 batch #: 63  of 300 sample #: 199 reconstruction error: 0.053480\n",
      "Epoch: 0 batch #: 64  of 300 sample #: 199 reconstruction error: 0.075638\n",
      "Epoch: 0 batch #: 65  of 300 sample #: 199 reconstruction error: 0.068138\n",
      "Epoch: 0 batch #: 66  of 300 sample #: 199 reconstruction error: 0.049371\n",
      "Epoch: 0 batch #: 67  of 300 sample #: 199 reconstruction error: 0.063040\n",
      "Epoch: 0 batch #: 68  of 300 sample #: 199 reconstruction error: 0.062648\n",
      "Epoch: 0 batch #: 69  of 300 sample #: 199 reconstruction error: 0.077160\n",
      "Epoch: 0 batch #: 70  of 300 sample #: 199 reconstruction error: 0.086424\n",
      "Epoch: 0 batch #: 71  of 300 sample #: 199 reconstruction error: 0.077651\n",
      "Epoch: 0 batch #: 72  of 300 sample #: 199 reconstruction error: 0.074230\n",
      "Epoch: 0 batch #: 73  of 300 sample #: 199 reconstruction error: 0.076975\n",
      "Epoch: 0 batch #: 74  of 300 sample #: 199 reconstruction error: 0.085531\n",
      "Epoch: 0 batch #: 75  of 300 sample #: 199 reconstruction error: 0.059112\n",
      "Epoch: 0 batch #: 76  of 300 sample #: 199 reconstruction error: 0.068552\n",
      "Epoch: 0 batch #: 77  of 300 sample #: 199 reconstruction error: 0.106896\n",
      "Epoch: 0 batch #: 78  of 300 sample #: 199 reconstruction error: 0.090004\n",
      "Epoch: 0 batch #: 79  of 300 sample #: 199 reconstruction error: 0.112594\n",
      "Epoch: 0 batch #: 80  of 300 sample #: 199 reconstruction error: 0.047747\n",
      "Epoch: 0 batch #: 81  of 300 sample #: 199 reconstruction error: 0.049594\n",
      "Epoch: 0 batch #: 82  of 300 sample #: 199 reconstruction error: 0.040785\n",
      "Epoch: 0 batch #: 83  of 300 sample #: 199 reconstruction error: 0.078236\n",
      "Epoch: 0 batch #: 84  of 300 sample #: 199 reconstruction error: 0.088467\n",
      "Epoch: 0 batch #: 85  of 300 sample #: 199 reconstruction error: 0.041586\n",
      "Epoch: 0 batch #: 86  of 300 sample #: 199 reconstruction error: 0.079651\n",
      "Epoch: 0 batch #: 87  of 300 sample #: 199 reconstruction error: 0.076606\n",
      "Epoch: 0 batch #: 88  of 300 sample #: 199 reconstruction error: 0.026331\n",
      "Epoch: 0 batch #: 89  of 300 sample #: 199 reconstruction error: 0.065576\n",
      "Epoch: 0 batch #: 90  of 300 sample #: 199 reconstruction error: 0.076010\n",
      "Epoch: 0 batch #: 91  of 300 sample #: 199 reconstruction error: 0.061536\n",
      "Epoch: 0 batch #: 92  of 300 sample #: 199 reconstruction error: 0.060886\n",
      "Epoch: 0 batch #: 93  of 300 sample #: 199 reconstruction error: 0.116998\n",
      "Epoch: 0 batch #: 94  of 300 sample #: 199 reconstruction error: 0.106242\n",
      "Epoch: 0 batch #: 95  of 300 sample #: 199 reconstruction error: 0.069367\n",
      "Epoch: 0 batch #: 96  of 300 sample #: 199 reconstruction error: 0.046497\n",
      "Epoch: 0 batch #: 97  of 300 sample #: 199 reconstruction error: 0.114113\n",
      "Epoch: 0 batch #: 98  of 300 sample #: 199 reconstruction error: 0.088954\n",
      "Epoch: 0 batch #: 99  of 300 sample #: 199 reconstruction error: 0.088303\n",
      "Epoch: 0 batch #: 100  of 300 sample #: 199 reconstruction error: 0.099749\n",
      "Epoch: 0 batch #: 101  of 300 sample #: 199 reconstruction error: 0.078914\n",
      "Epoch: 0 batch #: 102  of 300 sample #: 199 reconstruction error: 0.085473\n",
      "Epoch: 0 batch #: 103  of 300 sample #: 199 reconstruction error: 0.070861\n",
      "Epoch: 0 batch #: 104  of 300 sample #: 199 reconstruction error: 0.062194\n",
      "Epoch: 0 batch #: 105  of 300 sample #: 199 reconstruction error: 0.067529\n",
      "Epoch: 0 batch #: 106  of 300 sample #: 199 reconstruction error: 0.106557\n",
      "Epoch: 0 batch #: 107  of 300 sample #: 199 reconstruction error: 0.130705\n",
      "Epoch: 0 batch #: 108  of 300 sample #: 199 reconstruction error: 0.066321\n",
      "Epoch: 0 batch #: 109  of 300 sample #: 199 reconstruction error: 0.127092\n",
      "Epoch: 0 batch #: 110  of 300 sample #: 199 reconstruction error: 0.058531\n",
      "Epoch: 0 batch #: 111  of 300 sample #: 199 reconstruction error: 0.119889\n",
      "Epoch: 0 batch #: 112  of 300 sample #: 199 reconstruction error: 0.039925\n",
      "Epoch: 0 batch #: 113  of 300 sample #: 199 reconstruction error: 0.068132\n",
      "Epoch: 0 batch #: 114  of 300 sample #: 199 reconstruction error: 0.062124\n",
      "Epoch: 0 batch #: 115  of 300 sample #: 199 reconstruction error: 0.063047\n",
      "Epoch: 0 batch #: 116  of 300 sample #: 199 reconstruction error: 0.067117\n",
      "Epoch: 0 batch #: 117  of 300 sample #: 199 reconstruction error: 0.039856\n",
      "Epoch: 0 batch #: 118  of 300 sample #: 199 reconstruction error: 0.070594\n",
      "Epoch: 0 batch #: 119  of 300 sample #: 199 reconstruction error: 0.099453\n",
      "Epoch: 0 batch #: 120  of 300 sample #: 199 reconstruction error: 0.070404\n",
      "Epoch: 0 batch #: 121  of 300 sample #: 199 reconstruction error: 0.046769\n",
      "Epoch: 0 batch #: 122  of 300 sample #: 199 reconstruction error: 0.090248\n",
      "Epoch: 0 batch #: 123  of 300 sample #: 199 reconstruction error: 0.071326\n",
      "Epoch: 0 batch #: 124  of 300 sample #: 199 reconstruction error: 0.081882\n",
      "Epoch: 0 batch #: 125  of 300 sample #: 199 reconstruction error: 0.052779\n",
      "Epoch: 0 batch #: 126  of 300 sample #: 199 reconstruction error: 0.085522\n",
      "Epoch: 0 batch #: 127  of 300 sample #: 199 reconstruction error: 0.104981\n",
      "Epoch: 0 batch #: 128  of 300 sample #: 199 reconstruction error: 0.072378\n",
      "Epoch: 0 batch #: 129  of 300 sample #: 199 reconstruction error: 0.060589\n",
      "Epoch: 0 batch #: 130  of 300 sample #: 199 reconstruction error: 0.076239\n",
      "Epoch: 0 batch #: 131  of 300 sample #: 199 reconstruction error: 0.047656\n",
      "Epoch: 0 batch #: 132  of 300 sample #: 199 reconstruction error: 0.057485\n",
      "Epoch: 0 batch #: 133  of 300 sample #: 199 reconstruction error: 0.063838\n",
      "Epoch: 0 batch #: 134  of 300 sample #: 199 reconstruction error: 0.103645\n",
      "Epoch: 0 batch #: 135  of 300 sample #: 199 reconstruction error: 0.097800\n",
      "Epoch: 0 batch #: 136  of 300 sample #: 199 reconstruction error: 0.110373\n",
      "Epoch: 0 batch #: 137  of 300 sample #: 199 reconstruction error: 0.073163\n",
      "Epoch: 0 batch #: 138  of 300 sample #: 199 reconstruction error: 0.096147\n",
      "Epoch: 0 batch #: 139  of 300 sample #: 199 reconstruction error: 0.098485\n",
      "Epoch: 0 batch #: 140  of 300 sample #: 199 reconstruction error: 0.073580\n",
      "Epoch: 0 batch #: 141  of 300 sample #: 199 reconstruction error: 0.098932\n",
      "Epoch: 0 batch #: 142  of 300 sample #: 199 reconstruction error: 0.053893\n",
      "Epoch: 0 batch #: 143  of 300 sample #: 199 reconstruction error: 0.070542\n",
      "Epoch: 0 batch #: 144  of 300 sample #: 199 reconstruction error: 0.069534\n",
      "Epoch: 0 batch #: 145  of 300 sample #: 199 reconstruction error: 0.080056\n",
      "Epoch: 0 batch #: 146  of 300 sample #: 199 reconstruction error: 0.105235\n",
      "Epoch: 0 batch #: 147  of 300 sample #: 199 reconstruction error: 0.089298\n",
      "Epoch: 0 batch #: 148  of 300 sample #: 199 reconstruction error: 0.091931\n",
      "Epoch: 0 batch #: 149  of 300 sample #: 199 reconstruction error: 0.051660\n",
      "Epoch: 0 batch #: 150  of 300 sample #: 199 reconstruction error: 0.034761\n",
      "Epoch: 0 batch #: 151  of 300 sample #: 199 reconstruction error: 0.118521\n",
      "Epoch: 0 batch #: 152  of 300 sample #: 199 reconstruction error: 0.093498\n",
      "Epoch: 0 batch #: 153  of 300 sample #: 199 reconstruction error: 0.059282\n",
      "Epoch: 0 batch #: 154  of 300 sample #: 199 reconstruction error: 0.069350\n",
      "Epoch: 0 batch #: 155  of 300 sample #: 199 reconstruction error: 0.056926\n",
      "Epoch: 0 batch #: 156  of 300 sample #: 199 reconstruction error: 0.085416\n",
      "Epoch: 0 batch #: 157  of 300 sample #: 199 reconstruction error: 0.083425\n",
      "Epoch: 0 batch #: 158  of 300 sample #: 199 reconstruction error: 0.080709\n",
      "Epoch: 0 batch #: 159  of 300 sample #: 199 reconstruction error: 0.049412\n",
      "Epoch: 0 batch #: 160  of 300 sample #: 199 reconstruction error: 0.081082\n",
      "Epoch: 0 batch #: 161  of 300 sample #: 199 reconstruction error: 0.076843\n",
      "Epoch: 0 batch #: 162  of 300 sample #: 199 reconstruction error: 0.104800\n",
      "Epoch: 0 batch #: 163  of 300 sample #: 199 reconstruction error: 0.042353\n",
      "Epoch: 0 batch #: 164  of 300 sample #: 199 reconstruction error: 0.067281\n",
      "Epoch: 0 batch #: 165  of 300 sample #: 199 reconstruction error: 0.077513\n",
      "Epoch: 0 batch #: 166  of 300 sample #: 199 reconstruction error: 0.065908\n",
      "Epoch: 0 batch #: 167  of 300 sample #: 199 reconstruction error: 0.100895\n",
      "Epoch: 0 batch #: 168  of 300 sample #: 199 reconstruction error: 0.055944\n",
      "Epoch: 0 batch #: 169  of 300 sample #: 199 reconstruction error: 0.038872\n",
      "Epoch: 0 batch #: 170  of 300 sample #: 199 reconstruction error: 0.058418\n",
      "Epoch: 0 batch #: 171  of 300 sample #: 199 reconstruction error: 0.032707\n",
      "Epoch: 0 batch #: 172  of 300 sample #: 199 reconstruction error: 0.055009\n",
      "Epoch: 0 batch #: 173  of 300 sample #: 199 reconstruction error: 0.068252\n",
      "Epoch: 0 batch #: 174  of 300 sample #: 199 reconstruction error: 0.119473\n",
      "Epoch: 0 batch #: 175  of 300 sample #: 199 reconstruction error: 0.067961\n",
      "Epoch: 0 batch #: 176  of 300 sample #: 199 reconstruction error: 0.043991\n",
      "Epoch: 0 batch #: 177  of 300 sample #: 199 reconstruction error: 0.028464\n",
      "Epoch: 0 batch #: 178  of 300 sample #: 199 reconstruction error: 0.105380\n",
      "Epoch: 0 batch #: 179  of 300 sample #: 199 reconstruction error: 0.074039\n",
      "Epoch: 0 batch #: 180  of 300 sample #: 199 reconstruction error: 0.090534\n",
      "Epoch: 0 batch #: 181  of 300 sample #: 199 reconstruction error: 0.095187\n",
      "Epoch: 0 batch #: 182  of 300 sample #: 199 reconstruction error: 0.074615\n",
      "Epoch: 0 batch #: 183  of 300 sample #: 199 reconstruction error: 0.103667\n",
      "Epoch: 0 batch #: 184  of 300 sample #: 199 reconstruction error: 0.065649\n",
      "Epoch: 0 batch #: 185  of 300 sample #: 199 reconstruction error: 0.073178\n",
      "Epoch: 0 batch #: 186  of 300 sample #: 199 reconstruction error: 0.115344\n",
      "Epoch: 0 batch #: 187  of 300 sample #: 199 reconstruction error: 0.058459\n",
      "Epoch: 0 batch #: 188  of 300 sample #: 199 reconstruction error: 0.100516\n",
      "Epoch: 0 batch #: 189  of 300 sample #: 199 reconstruction error: 0.096629\n",
      "Epoch: 0 batch #: 190  of 300 sample #: 199 reconstruction error: 0.062938\n",
      "Epoch: 0 batch #: 191  of 300 sample #: 199 reconstruction error: 0.109930\n",
      "Epoch: 0 batch #: 192  of 300 sample #: 199 reconstruction error: 0.126587\n",
      "Epoch: 0 batch #: 193  of 300 sample #: 199 reconstruction error: 0.096561\n",
      "Epoch: 0 batch #: 194  of 300 sample #: 199 reconstruction error: 0.082310\n",
      "Epoch: 0 batch #: 195  of 300 sample #: 199 reconstruction error: 0.043007\n",
      "Epoch: 0 batch #: 196  of 300 sample #: 199 reconstruction error: 0.045302\n",
      "Epoch: 0 batch #: 197  of 300 sample #: 199 reconstruction error: 0.046501\n",
      "Epoch: 0 batch #: 198  of 300 sample #: 199 reconstruction error: 0.091274\n",
      "Epoch: 0 batch #: 199  of 300 sample #: 199 reconstruction error: 0.077428\n",
      "Epoch: 0 batch #: 200  of 300 sample #: 199 reconstruction error: 0.116707\n",
      "Epoch: 0 batch #: 201  of 300 sample #: 199 reconstruction error: 0.085075\n",
      "Epoch: 0 batch #: 202  of 300 sample #: 199 reconstruction error: 0.026963\n",
      "Epoch: 0 batch #: 203  of 300 sample #: 199 reconstruction error: 0.089296\n",
      "Epoch: 0 batch #: 204  of 300 sample #: 199 reconstruction error: 0.041901\n",
      "Epoch: 0 batch #: 205  of 300 sample #: 199 reconstruction error: 0.019095\n",
      "Epoch: 0 batch #: 206  of 300 sample #: 199 reconstruction error: 0.058920\n",
      "Epoch: 0 batch #: 207  of 300 sample #: 199 reconstruction error: 0.089481\n",
      "Epoch: 0 batch #: 208  of 300 sample #: 199 reconstruction error: 0.066590\n",
      "Epoch: 0 batch #: 209  of 300 sample #: 199 reconstruction error: 0.031176\n",
      "Epoch: 0 batch #: 210  of 300 sample #: 199 reconstruction error: 0.095616\n",
      "Epoch: 0 batch #: 211  of 300 sample #: 199 reconstruction error: 0.110226\n",
      "Epoch: 0 batch #: 212  of 300 sample #: 199 reconstruction error: 0.079735\n",
      "Epoch: 0 batch #: 213  of 300 sample #: 199 reconstruction error: 0.083781\n",
      "Epoch: 0 batch #: 214  of 300 sample #: 199 reconstruction error: 0.106295\n",
      "Epoch: 0 batch #: 215  of 300 sample #: 199 reconstruction error: 0.024210\n",
      "Epoch: 0 batch #: 216  of 300 sample #: 199 reconstruction error: 0.088277\n",
      "Epoch: 0 batch #: 217  of 300 sample #: 199 reconstruction error: 0.089759\n",
      "Epoch: 0 batch #: 218  of 300 sample #: 199 reconstruction error: 0.055591\n",
      "Epoch: 0 batch #: 219  of 300 sample #: 199 reconstruction error: 0.082300\n",
      "Epoch: 0 batch #: 220  of 300 sample #: 199 reconstruction error: 0.055689\n",
      "Epoch: 0 batch #: 221  of 300 sample #: 199 reconstruction error: 0.099463\n",
      "Epoch: 0 batch #: 222  of 300 sample #: 199 reconstruction error: 0.085381\n",
      "Epoch: 0 batch #: 223  of 300 sample #: 199 reconstruction error: 0.073633\n",
      "Epoch: 0 batch #: 224  of 300 sample #: 199 reconstruction error: 0.058309\n",
      "Epoch: 0 batch #: 225  of 300 sample #: 199 reconstruction error: 0.070613\n",
      "Epoch: 0 batch #: 226  of 300 sample #: 199 reconstruction error: 0.113912\n",
      "Epoch: 0 batch #: 227  of 300 sample #: 199 reconstruction error: 0.056768\n",
      "Epoch: 0 batch #: 228  of 300 sample #: 199 reconstruction error: 0.065780\n",
      "Epoch: 0 batch #: 229  of 300 sample #: 199 reconstruction error: 0.079246\n",
      "Epoch: 0 batch #: 230  of 300 sample #: 199 reconstruction error: 0.032147\n",
      "Epoch: 0 batch #: 231  of 300 sample #: 199 reconstruction error: 0.026690\n",
      "Epoch: 0 batch #: 232  of 300 sample #: 199 reconstruction error: 0.085270\n",
      "Epoch: 0 batch #: 233  of 300 sample #: 199 reconstruction error: 0.071756\n",
      "Epoch: 0 batch #: 234  of 300 sample #: 199 reconstruction error: 0.078432\n",
      "Epoch: 0 batch #: 235  of 300 sample #: 199 reconstruction error: 0.087707\n",
      "Epoch: 0 batch #: 236  of 300 sample #: 199 reconstruction error: 0.094909\n",
      "Epoch: 0 batch #: 237  of 300 sample #: 199 reconstruction error: 0.067140\n",
      "Epoch: 0 batch #: 238  of 300 sample #: 199 reconstruction error: 0.118337\n",
      "Epoch: 0 batch #: 239  of 300 sample #: 199 reconstruction error: 0.023143\n",
      "Epoch: 0 batch #: 240  of 300 sample #: 199 reconstruction error: 0.105554\n",
      "Epoch: 0 batch #: 241  of 300 sample #: 199 reconstruction error: 0.088118\n",
      "Epoch: 0 batch #: 242  of 300 sample #: 199 reconstruction error: 0.067929\n",
      "Epoch: 0 batch #: 243  of 300 sample #: 199 reconstruction error: 0.070935\n",
      "Epoch: 0 batch #: 244  of 300 sample #: 199 reconstruction error: 0.072740\n",
      "Epoch: 0 batch #: 245  of 300 sample #: 199 reconstruction error: 0.070111\n",
      "Epoch: 0 batch #: 246  of 300 sample #: 199 reconstruction error: 0.093137\n",
      "Epoch: 0 batch #: 247  of 300 sample #: 199 reconstruction error: 0.059645\n",
      "Epoch: 0 batch #: 248  of 300 sample #: 199 reconstruction error: 0.061069\n",
      "Epoch: 0 batch #: 249  of 300 sample #: 199 reconstruction error: 0.048812\n",
      "Epoch: 0 batch #: 250  of 300 sample #: 199 reconstruction error: 0.089457\n",
      "Epoch: 0 batch #: 251  of 300 sample #: 199 reconstruction error: 0.053078\n",
      "Epoch: 0 batch #: 252  of 300 sample #: 199 reconstruction error: 0.071467\n",
      "Epoch: 0 batch #: 253  of 300 sample #: 199 reconstruction error: 0.054460\n",
      "Epoch: 0 batch #: 254  of 300 sample #: 199 reconstruction error: 0.028732\n",
      "Epoch: 0 batch #: 255  of 300 sample #: 199 reconstruction error: 0.047174\n",
      "Epoch: 0 batch #: 256  of 300 sample #: 199 reconstruction error: 0.089595\n",
      "Epoch: 0 batch #: 257  of 300 sample #: 199 reconstruction error: 0.101068\n",
      "Epoch: 0 batch #: 258  of 300 sample #: 199 reconstruction error: 0.082206\n",
      "Epoch: 0 batch #: 259  of 300 sample #: 199 reconstruction error: 0.087018\n",
      "Epoch: 0 batch #: 260  of 300 sample #: 199 reconstruction error: 0.093506\n",
      "Epoch: 0 batch #: 261  of 300 sample #: 199 reconstruction error: 0.042195\n",
      "Epoch: 0 batch #: 262  of 300 sample #: 199 reconstruction error: 0.062732\n",
      "Epoch: 0 batch #: 263  of 300 sample #: 199 reconstruction error: 0.081293\n",
      "Epoch: 0 batch #: 264  of 300 sample #: 199 reconstruction error: 0.060334\n",
      "Epoch: 0 batch #: 265  of 300 sample #: 199 reconstruction error: 0.052226\n",
      "Epoch: 0 batch #: 266  of 300 sample #: 199 reconstruction error: 0.025149\n",
      "Epoch: 0 batch #: 267  of 300 sample #: 199 reconstruction error: 0.054651\n",
      "Epoch: 0 batch #: 268  of 300 sample #: 199 reconstruction error: 0.024190\n",
      "Epoch: 0 batch #: 269  of 300 sample #: 199 reconstruction error: 0.092970\n",
      "Epoch: 0 batch #: 270  of 300 sample #: 199 reconstruction error: 0.088069\n",
      "Epoch: 0 batch #: 271  of 300 sample #: 199 reconstruction error: 0.055182\n",
      "Epoch: 0 batch #: 272  of 300 sample #: 199 reconstruction error: 0.050361\n",
      "Epoch: 0 batch #: 273  of 300 sample #: 199 reconstruction error: 0.047189\n",
      "Epoch: 0 batch #: 274  of 300 sample #: 199 reconstruction error: 0.043222\n",
      "Epoch: 0 batch #: 275  of 300 sample #: 199 reconstruction error: 0.084535\n",
      "Epoch: 0 batch #: 276  of 300 sample #: 199 reconstruction error: 0.062137\n",
      "Epoch: 0 batch #: 277  of 300 sample #: 199 reconstruction error: 0.087350\n",
      "Epoch: 0 batch #: 278  of 300 sample #: 199 reconstruction error: 0.062721\n",
      "Epoch: 0 batch #: 279  of 300 sample #: 199 reconstruction error: 0.051611\n",
      "Epoch: 0 batch #: 280  of 300 sample #: 199 reconstruction error: 0.079285\n",
      "Epoch: 0 batch #: 281  of 300 sample #: 199 reconstruction error: 0.069582\n",
      "Epoch: 0 batch #: 282  of 300 sample #: 199 reconstruction error: 0.090045\n",
      "Epoch: 0 batch #: 283  of 300 sample #: 199 reconstruction error: 0.053379\n",
      "Epoch: 0 batch #: 284  of 300 sample #: 199 reconstruction error: 0.055584\n",
      "Epoch: 0 batch #: 285  of 300 sample #: 199 reconstruction error: 0.056847\n",
      "Epoch: 0 batch #: 286  of 300 sample #: 199 reconstruction error: 0.097905\n",
      "Epoch: 0 batch #: 287  of 300 sample #: 199 reconstruction error: 0.075296\n",
      "Epoch: 0 batch #: 288  of 300 sample #: 199 reconstruction error: 0.027527\n",
      "Epoch: 0 batch #: 289  of 300 sample #: 199 reconstruction error: 0.094966\n",
      "Epoch: 0 batch #: 290  of 300 sample #: 199 reconstruction error: 0.104356\n",
      "Epoch: 0 batch #: 291  of 300 sample #: 199 reconstruction error: 0.096989\n",
      "Epoch: 0 batch #: 292  of 300 sample #: 199 reconstruction error: 0.076259\n",
      "Epoch: 0 batch #: 293  of 300 sample #: 199 reconstruction error: 0.062193\n",
      "Epoch: 0 batch #: 294  of 300 sample #: 199 reconstruction error: 0.083757\n",
      "Epoch: 0 batch #: 295  of 300 sample #: 199 reconstruction error: 0.089413\n",
      "Epoch: 0 batch #: 296  of 300 sample #: 199 reconstruction error: 0.023687\n",
      "Epoch: 0 batch #: 297  of 300 sample #: 199 reconstruction error: 0.109954\n",
      "Epoch: 0 batch #: 298  of 300 sample #: 199 reconstruction error: 0.056254\n",
      "Epoch: 0 batch #: 299  of 300 sample #: 199 reconstruction error: 0.056508\n",
      "Epoch: 0 batch #: 300  of 300 sample #: 199 reconstruction error: 0.077017\n"
     ]
    }
   ],
   "source": [
    "#Parameters\n",
    "alpha = 0.01\n",
    "epochs = 1\n",
    "batchsize = 200\n",
    "weights = []\n",
    "errors = []\n",
    "batch_number = 0\n",
    "K = 1\n",
    "\n",
    "#creating datasets\n",
    "train_ds = \\\n",
    "    tf.data.Dataset.from_tensor_slices((trX, trY)).batch(batchsize)\n",
    "\n",
    "for epoch in range(epochs):\n",
    "    for batch_x, batch_y in train_ds:\n",
    "        batch_number += 1\n",
    "        for i_sample in range(batchsize):           \n",
    "            for k in range(K):\n",
    "                v0_state = batch_x[i_sample]\n",
    "                h0_state = hidden_layer(v0_state, W, hb)\n",
    "                v1_state = reconstructed_output(h0_state, W, vb)\n",
    "                h1_state = hidden_layer(v1_state, W, hb)\n",
    "\n",
    "                delta_W = tf.matmul(tf.transpose([v0_state]), h0_state) - tf.matmul(tf.transpose([v1_state]), h1_state)\n",
    "                W = W + alpha * delta_W\n",
    "\n",
    "                vb = vb + alpha * tf.reduce_mean(v0_state - v1_state, 0)\n",
    "                hb = hb + alpha * tf.reduce_mean(h0_state - h1_state, 0) \n",
    "\n",
    "                v0_state = v1_state\n",
    "\n",
    "            if i_sample == batchsize-1:\n",
    "                err = error(batch_x[i_sample], v1_state)\n",
    "                errors.append(err)\n",
    "                weights.append(W)\n",
    "                print ( 'Epoch: %d' % epoch, \n",
    "                       \"batch #: %i \" % batch_number, \"of %i\" % int(60e3/batchsize), \n",
    "                       \"sample #: %i\" % i_sample,\n",
    "                       'reconstruction error: %f' % err)\n",
    "\n"
   ]
  },
  {
   "cell_type": "markdown",
   "metadata": {},
   "source": [
    "Let's take a look at the errors at the end of each batch:\n"
   ]
  },
  {
   "cell_type": "code",
   "execution_count": 21,
   "metadata": {},
   "outputs": [
    {
     "data": {
      "image/png": "[encoded data removed]",
      "text/plain": [
       "<Figure size 640x480 with 1 Axes>"
      ]
     },
     "metadata": {},
     "output_type": "display_data"
    }
   ],
   "source": [
    "plt.plot(errors)\n",
    "plt.xlabel(\"Batch Number\")\n",
    "plt.ylabel(\"Error\")\n",
    "plt.show()"
   ]
  },
  {
   "cell_type": "markdown",
   "metadata": {},
   "source": [
    "What is the final weight matrix $W$ after training?\n"
   ]
  },
  {
   "cell_type": "code",
   "execution_count": 22,
   "metadata": {},
   "outputs": [
    {
     "name": "stdout",
     "output_type": "stream",
     "text": [
      "[[-0.31999996 -0.43999985 -0.45999983 ... -0.29       -0.30999997\n",
      "  -0.5399998 ]\n",
      " [-0.36999992 -0.36999992 -0.46999982 ... -0.23000003 -0.33999994\n",
      "  -0.5099998 ]\n",
      " [-0.3999999  -0.44999984 -0.45999983 ... -0.27       -0.33999994\n",
      "  -0.5399998 ]\n",
      " ...\n",
      " [-0.32999995 -0.45999983 -0.40999988 ... -0.23000003 -0.29999998\n",
      "  -0.4799998 ]\n",
      " [-0.40999988 -0.42999986 -0.34999993 ... -0.18       -0.29999998\n",
      "  -0.43999985]\n",
      " [-0.3999999  -0.5399998  -0.46999982 ... -0.22000003 -0.36999992\n",
      "  -0.4799998 ]]\n"
     ]
    }
   ],
   "source": [
    "print(W.numpy()) # a weight matrix of shape (50,784)"
   ]
  },
  {
   "cell_type": "markdown",
   "metadata": {},
   "source": [
    "<a id=\"ref5\"></a>\n",
    "<h3>Learned features</h3> \n"
   ]
  },
  {
   "cell_type": "markdown",
   "metadata": {},
   "source": [
    "We can take each hidden unit and visualize the connections between that hidden unit and each element in the input vector. In our case, we have 50 hidden units. Lets visualize those.\n"
   ]
  },
  {
   "cell_type": "markdown",
   "metadata": {},
   "source": [
    "Let's plot the current weights:\n",
    "<b>tile_raster_images</b> helps in generating an easy to grasp image from a set of samples or weights. It transforms the <b>uw</b> (with one flattened image per row of size 784), into an array (of size $28\\times28$) in which images are reshaped and laid out like tiles on a floor.\n"
   ]
  },
  {
   "cell_type": "code",
   "execution_count": 23,
   "metadata": {},
   "outputs": [
    {
     "data": {
      "image/png": "[encoded data removed]",
      "text/plain": [
       "<Figure size 1800x1800 with 1 Axes>"
      ]
     },
     "metadata": {},
     "output_type": "display_data"
    }
   ],
   "source": [
    "tile_raster_images(X=W.numpy().T, img_shape=(28, 28), tile_shape=(5, 10), tile_spacing=(1, 1))\n",
    "import matplotlib.pyplot as plt\n",
    "from PIL import Image\n",
    "%matplotlib inline\n",
    "image = Image.fromarray(tile_raster_images(X=W.numpy().T, img_shape=(28, 28) ,tile_shape=(5, 10), tile_spacing=(1, 1)))\n",
    "### Plot image\n",
    "plt.rcParams['figure.figsize'] = (18.0, 18.0)\n",
    "imgplot = plt.imshow(image)\n",
    "imgplot.set_cmap('gray')  "
   ]
  },
  {
   "cell_type": "markdown",
   "metadata": {},
   "source": [
    "Each tile in the above visualization corresponds to a vector of connections between a hidden unit and visible layer's units. \n"
   ]
  },
  {
   "cell_type": "markdown",
   "metadata": {},
   "source": [
    "Let's look at one of the learned weights corresponding to one of hidden units for example. In this particular square, the gray color represents weight = 0, and the whiter it is, the more positive the weights are (closer to 1). Conversely, the darker pixels are, the more negative the weights. The positive pixels will increase the probability of activation in hidden units (after multiplying by input/visible pixels), and negative pixels will decrease the probability of a unit hidden to be 1 (activated). So, why is this important?  So we can see that this specific square (hidden unit) can detect a feature (e.g. a \"/\" shape) and if it exists in the input.\n"
   ]
  },
  {
   "cell_type": "code",
   "execution_count": 24,
   "metadata": {},
   "outputs": [
    {
     "data": {
      "image/png": "[encoded data removed]",
      "text/plain": [
       "<Figure size 400x400 with 1 Axes>"
      ]
     },
     "metadata": {},
     "output_type": "display_data"
    }
   ],
   "source": [
    "from PIL import Image\n",
    "image = Image.fromarray(tile_raster_images(X =W.numpy().T[10:11], img_shape=(28, 28),tile_shape=(1, 1), tile_spacing=(1, 1)))\n",
    "### Plot image\n",
    "plt.rcParams['figure.figsize'] = (4.0, 4.0)\n",
    "imgplot = plt.imshow(image)\n",
    "imgplot.set_cmap('gray')  "
   ]
  },
  {
   "cell_type": "markdown",
   "metadata": {},
   "source": [
    "Let's look at the reconstruction of an image now. Imagine that we have a destructed image of figure 3. Lets see if our trained network can fix it:\n",
    "\n",
    "First we plot the image:\n"
   ]
  },
  {
   "cell_type": "code",
   "execution_count": 25,
   "metadata": {},
   "outputs": [
    {
     "name": "stdout",
     "output_type": "stream",
     "text": [
      "--2023-03-11 15:36:54--  https://ibm.box.com/shared/static/vvm1b63uvuxq88vbw9znpwu5ol380mco.jpg\n",
      "Resolving ibm.box.com (ibm.box.com)... 74.112.186.144\n",
      "Connecting to ibm.box.com (ibm.box.com)|74.112.186.144|:443... connected.\n",
      "HTTP request sent, awaiting response... 301 Moved Permanently\n",
      "Location: /public/static/vvm1b63uvuxq88vbw9znpwu5ol380mco.jpg [following]\n",
      "--2023-03-11 15:36:54--  https://ibm.box.com/public/static/vvm1b63uvuxq88vbw9znpwu5ol380mco.jpg\n",
      "Reusing existing connection to ibm.box.com:443.\n",
      "HTTP request sent, awaiting response... 301 Moved Permanently\n",
      "Location: https://ibm.ent.box.com/public/static/vvm1b63uvuxq88vbw9znpwu5ol380mco.jpg [following]\n",
      "--2023-03-11 15:36:54--  https://ibm.ent.box.com/public/static/vvm1b63uvuxq88vbw9znpwu5ol380mco.jpg\n",
      "Resolving ibm.ent.box.com (ibm.ent.box.com)... 74.112.186.144\n",
      "Connecting to ibm.ent.box.com (ibm.ent.box.com)|74.112.186.144|:443... connected.\n",
      "HTTP request sent, awaiting response... 302 Found\n",
      "Location: https://dl2.boxcloud.com/d/1/b1!aHgWC4izH3O6JGGRFJ-V65tITFoLqQqCm51NKHBSLodYO7twahIGkPfRHNNgFduZM6-3gxNB7-9b_8gELg0ubWQE7dAcwHKawYBLTIgtHLwYQrGMkigc8Uc0sRgtAu1aJEET1i-h6U6cAHzY53kBhp7UJa4X19oIXXMHTRAH9zzK31cQH5xPeLPQsmuznaKYmRSGNekLRJia53kg2_NLJ_BYh8gfcV2Jajh3eojEbzvRuZtEvvY3GYKMVh7fHd7F3uiUNwoxwohTCwZXZR1xhqI25Yt-o7GlzQA-PPH8-HoV2p5SxrKPFUPa-lhRzWTVcJ82G1SigouRtgmR25gNofINt3P12oT19Ot427QnTz1-C7yLhxk8JjYyNLv0RmWfyIY7TZDyknO0uZxbZfkJwVhczFh8eGQdiUHVvns4NEruwrOUxz8qsAzPacv2jKBw40PqMbv9XBQlSarkWGhY8dRHIsT0BnTCdzF0zgVd95qAMqyLbal3Tn8E4omfvR_3zzrJq9CUh0nSZO5t-HxYWlUJA__l-xIMAYFZS7tvZRuF7e-myuLlRHuwqvkm0J1ce5Xr1lD85mjg1eQ8efeM5Oft09H8vnWbh0WfKxPEPMynqhpXBqbppmQ-dcGNvcssfHbG8Ue_0QfTzLqVitzhdcRaZnzE-szQ20IgoxZgLbL8D0SfT8DHpLeH_uMxFEADxMbueuJAh3tTgpn9X8485Cy190Kq8JRhQ55zi1e0ug-BdRxAeDB6shzLQTWgpWrnwhgye2KQirHlQShl7Yeg5aWEFecDRmwVQlehZixb0i2n3Ix6HegEx7jzHsmkI2PkJbi9lbGI7HNIuT1MIULhwEKb8SPYqX0I_TggeCXFsy8CVgo6YTLEk27QF0vdHovJgbSZYm5zKFXL2CxVGouGzquBMjwylQvTMVMe4FHFmWDQV3fX1XUKPOeuugJjvumaxPvMM-Kab_-J-apXZNY7iu5DQT___VVFpuc_Q9VdmH0e0NqQI6LaSQt7VH5dmb6By7BO7ZKDzeNetqv8giRXbwc6dMtZJmgmtxZqnsTGvFK-hRMuDmTdqQGUUW9Gx9P6I5nlz7mjOYE5mFQYdIxY9kI98X9W5E1N6nAcf8yHtEuTQMiQB5HrRAMJTGlar7uFzZSpCn9mGGF7BCB1bxcMU9Tlia4iYfpCnLE8RrSbakc7WYDKX7d3nOjjq6eV5WvnfQWHCBmbIshO6ak49A2gn2Oo0B_Qt_g1GXsOd8_R8uxZ2ls0j1-tzeK-Y0fzlRHNQEN8MNo0gzNojyQJ6Mk-mqWJCM0JkiaityEWbj-z1YLH7eidNeSDxn0tq9sDCggp2UOiWL3L2dnw-5qPHfkPHdGyf-FaW0nHkp1CkAjT-yYM-huFf84P0Ex5gPttr37XGHRS5Mwzkfq2eV8whact_b3kErAqZPl0OjhH/download [following]\n",
      "--2023-03-11 15:36:55--  https://dl2.boxcloud.com/d/1/b1!aHgWC4izH3O6JGGRFJ-V65tITFoLqQqCm51NKHBSLodYO7twahIGkPfRHNNgFduZM6-3gxNB7-9b_8gELg0ubWQE7dAcwHKawYBLTIgtHLwYQrGMkigc8Uc0sRgtAu1aJEET1i-h6U6cAHzY53kBhp7UJa4X19oIXXMHTRAH9zzK31cQH5xPeLPQsmuznaKYmRSGNekLRJia53kg2_NLJ_BYh8gfcV2Jajh3eojEbzvRuZtEvvY3GYKMVh7fHd7F3uiUNwoxwohTCwZXZR1xhqI25Yt-o7GlzQA-PPH8-HoV2p5SxrKPFUPa-lhRzWTVcJ82G1SigouRtgmR25gNofINt3P12oT19Ot427QnTz1-C7yLhxk8JjYyNLv0RmWfyIY7TZDyknO0uZxbZfkJwVhczFh8eGQdiUHVvns4NEruwrOUxz8qsAzPacv2jKBw40PqMbv9XBQlSarkWGhY8dRHIsT0BnTCdzF0zgVd95qAMqyLbal3Tn8E4omfvR_3zzrJq9CUh0nSZO5t-HxYWlUJA__l-xIMAYFZS7tvZRuF7e-myuLlRHuwqvkm0J1ce5Xr1lD85mjg1eQ8efeM5Oft09H8vnWbh0WfKxPEPMynqhpXBqbppmQ-dcGNvcssfHbG8Ue_0QfTzLqVitzhdcRaZnzE-szQ20IgoxZgLbL8D0SfT8DHpLeH_uMxFEADxMbueuJAh3tTgpn9X8485Cy190Kq8JRhQ55zi1e0ug-BdRxAeDB6shzLQTWgpWrnwhgye2KQirHlQShl7Yeg5aWEFecDRmwVQlehZixb0i2n3Ix6HegEx7jzHsmkI2PkJbi9lbGI7HNIuT1MIULhwEKb8SPYqX0I_TggeCXFsy8CVgo6YTLEk27QF0vdHovJgbSZYm5zKFXL2CxVGouGzquBMjwylQvTMVMe4FHFmWDQV3fX1XUKPOeuugJjvumaxPvMM-Kab_-J-apXZNY7iu5DQT___VVFpuc_Q9VdmH0e0NqQI6LaSQt7VH5dmb6By7BO7ZKDzeNetqv8giRXbwc6dMtZJmgmtxZqnsTGvFK-hRMuDmTdqQGUUW9Gx9P6I5nlz7mjOYE5mFQYdIxY9kI98X9W5E1N6nAcf8yHtEuTQMiQB5HrRAMJTGlar7uFzZSpCn9mGGF7BCB1bxcMU9Tlia4iYfpCnLE8RrSbakc7WYDKX7d3nOjjq6eV5WvnfQWHCBmbIshO6ak49A2gn2Oo0B_Qt_g1GXsOd8_R8uxZ2ls0j1-tzeK-Y0fzlRHNQEN8MNo0gzNojyQJ6Mk-mqWJCM0JkiaityEWbj-z1YLH7eidNeSDxn0tq9sDCggp2UOiWL3L2dnw-5qPHfkPHdGyf-FaW0nHkp1CkAjT-yYM-huFf84P0Ex5gPttr37XGHRS5Mwzkfq2eV8whact_b3kErAqZPl0OjhH/download\n",
      "Resolving dl2.boxcloud.com (dl2.boxcloud.com)... 74.112.186.128\n",
      "Connecting to dl2.boxcloud.com (dl2.boxcloud.com)|74.112.186.128|:443... connected.\n",
      "HTTP request sent, awaiting response... 200 OK\n",
      "Length: 24383 (24K) [image/jpeg]\n",
      "Saving to: ‘destructed3.jpg’\n",
      "\n",
      "destructed3.jpg     100%[===================>]  23.81K  --.-KB/s    in 0.02s   \n",
      "\n",
      "2023-03-11 15:36:56 (1.22 MB/s) - ‘destructed3.jpg’ saved [24383/24383]\n",
      "\n"
     ]
    },
    {
     "data": {
      "image/png": "[encoded data removed]",
      "text/plain": [
       "<PIL.JpegImagePlugin.JpegImageFile image mode=RGB size=181x181 at 0x7F216C0F1FD0>"
      ]
     },
     "execution_count": 25,
     "metadata": {},
     "output_type": "execute_result"
    }
   ],
   "source": [
    "!wget -O destructed3.jpg  https://ibm.box.com/shared/static/vvm1b63uvuxq88vbw9znpwu5ol380mco.jpg\n",
    "img = Image.open('destructed3.jpg')\n",
    "img"
   ]
  },
  {
   "cell_type": "markdown",
   "metadata": {},
   "source": [
    "Now let's pass this image through the neural net:\n"
   ]
  },
  {
   "cell_type": "code",
   "execution_count": 26,
   "metadata": {},
   "outputs": [],
   "source": [
    "# convert the image to a 1d numpy array\n",
    "sample_case = np.array(img.convert('I').resize((28,28))).ravel().reshape((1, -1))/255.0\n",
    "\n",
    "sample_case = tf.cast(sample_case, dtype=tf.float32)"
   ]
  },
  {
   "cell_type": "markdown",
   "metadata": {},
   "source": [
    "Feed the sample case into the network and reconstruct the output:\n"
   ]
  },
  {
   "cell_type": "code",
   "execution_count": 27,
   "metadata": {},
   "outputs": [
    {
     "name": "stdout",
     "output_type": "stream",
     "text": [
      "Probability nodes in hidden layer: tf.Tensor(\n",
      "[[1.20408918e-13 2.13220716e-03 1.00000000e+00 2.13651579e-11\n",
      "  9.99645948e-01 9.99911308e-01 9.99999702e-01 5.23824656e-15\n",
      "  9.99271989e-01 8.26214297e-09 1.51574612e-04 7.84461008e-06\n",
      "  2.41554360e-10 2.60199487e-01 9.96587157e-01 1.54736526e-08\n",
      "  5.43714274e-09 1.00000000e+00 9.99902129e-01 2.26871371e-01\n",
      "  1.28754493e-07 1.79127962e-10 2.95318484e-01 1.61858989e-05\n",
      "  4.06731777e-13 1.01064666e-06 9.99973655e-01 4.90399152e-08\n",
      "  9.92430449e-01 9.99599576e-01 9.48969603e-01 4.50756907e-08\n",
      "  1.72878656e-09 2.22379040e-08 3.47068787e-01 4.05982345e-01\n",
      "  1.30266845e-02 1.83093218e-09 3.20460281e-09 9.99322891e-01\n",
      "  1.19807533e-04 7.64286876e-01 9.98096824e-01 1.41508028e-09\n",
      "  2.30758160e-01 1.00000000e+00 1.00000000e+00 1.59519915e-16\n",
      "  9.99996543e-01 2.57349951e-04]], shape=(1, 50), dtype=float32)\n",
      "activated nodes in hidden layer: tf.Tensor(\n",
      "[[0. 0. 1. 0. 1. 1. 1. 0. 1. 0. 0. 0. 0. 0. 1. 0. 0. 1. 1. 0. 0. 0. 0. 0.\n",
      "  0. 0. 1. 0. 1. 1. 1. 0. 0. 0. 0. 0. 0. 0. 0. 1. 0. 1. 1. 0. 0. 1. 1. 0.\n",
      "  1. 0.]], shape=(1, 50), dtype=float32)\n",
      "tf.Tensor(\n",
      "[[2.03907490e-04 1.31309032e-04 1.79082155e-04 2.61813402e-04\n",
      "  1.93923712e-04 3.82721424e-04 2.69740820e-04 1.61975622e-04\n",
      "  2.07960606e-04 2.23129988e-04 3.36140394e-04 2.29865313e-04\n",
      "  1.63704157e-04 2.51293182e-04 2.61574984e-04 3.14235687e-04\n",
      "  2.25245953e-04 1.68651342e-04 1.82747841e-04 1.17651929e-04\n",
      "  2.46495008e-04 2.23129988e-04 2.67088413e-04 2.29835510e-04\n",
      "  1.75476074e-04 3.13401222e-04 3.56882811e-04 2.56597996e-04\n",
      "  2.72482634e-04 2.56597996e-04 2.36868858e-04 2.25245953e-04\n",
      "  2.37584114e-04 2.75373459e-04 2.52753496e-04 2.08824873e-04\n",
      "  1.76936388e-04 2.43276358e-04 2.31236219e-04 2.64257193e-04\n",
      "  2.69621611e-04 2.73138285e-04 2.87890434e-04 2.50667334e-04\n",
      "  5.33849001e-04 3.31848860e-04 2.43097544e-04 4.24683094e-04\n",
      "  5.01334667e-04 4.20659781e-04 2.77608633e-04 3.04311514e-04\n",
      "  1.92046165e-04 2.59250402e-04 3.71396542e-04 2.54064798e-04\n",
      "  2.10076571e-04 3.53366137e-04 3.70472670e-04 2.04086304e-04\n",
      "  2.50369310e-04 2.04801559e-04 3.08215618e-04 2.86161900e-04\n",
      "  1.49995089e-04 1.13518719e-04 5.75151025e-05 2.93434150e-05\n",
      "  8.64643607e-06 2.00644354e-05 3.75788986e-05 6.25355606e-05\n",
      "  7.13268455e-05 1.58548355e-04 7.21052274e-05 5.67668030e-05\n",
      "  1.46359205e-04 2.20060349e-04 7.59631395e-04 3.96996737e-04\n",
      "  1.94042921e-04 4.16219234e-04 1.36733055e-04 2.01821327e-04\n",
      "  3.56882811e-04 3.07232141e-04 3.18437815e-04 2.40176916e-04\n",
      "  2.09540129e-04 3.14027071e-04 3.87191772e-04 1.35481358e-04\n",
      "  9.03717591e-05 4.93024054e-05 1.35684195e-05 9.80294863e-06\n",
      "  7.90260037e-06 2.27160672e-05 7.13604531e-05 1.26063824e-04\n",
      "  5.71668148e-04 1.25932693e-03 1.73306465e-03 2.99492478e-03\n",
      "  9.85383987e-04 6.76572323e-04 5.60760498e-04 1.12241507e-03\n",
      "  4.87893820e-04 3.28302383e-04 2.27510929e-04 1.82747841e-04\n",
      "  2.54064798e-04 1.46120787e-04 2.58028507e-04 3.19451094e-04\n",
      "  3.06755304e-04 6.58094883e-04 6.14523888e-04 1.19185082e-04\n",
      "  4.27760533e-05 7.41331096e-05 5.36822590e-05 1.04599589e-04\n",
      "  1.73985958e-04 4.62800264e-04 6.04897738e-04 2.80088186e-03\n",
      "  6.67509437e-03 1.09988153e-02 1.75366402e-02 2.15904117e-02\n",
      "  1.98781788e-02 2.21530199e-02 1.22641027e-02 1.10957325e-02\n",
      "  5.71212173e-03 7.19368458e-04 2.88933516e-04 1.73419714e-04\n",
      "  3.36140394e-04 1.92046165e-04 2.11000443e-04 5.94764948e-04\n",
      "  5.87493181e-04 4.31448221e-04 7.18355179e-04 1.07631087e-03\n",
      "  9.24408436e-04 1.23059750e-03 3.34700942e-03 7.66122341e-03\n",
      "  3.16828787e-02 1.40852720e-01 4.10762191e-01 4.62383986e-01\n",
      "  5.76050282e-01 6.99468970e-01 7.53993273e-01 6.05500519e-01\n",
      "  3.66046846e-01 3.11430782e-01 1.58427864e-01 1.19935572e-01\n",
      "  4.31655645e-02 1.03278458e-02 9.07093287e-04 3.67671251e-04\n",
      "  2.12222338e-04 2.22146511e-04 2.14815140e-04 6.13838434e-04\n",
      "  1.44588947e-03 6.96808100e-04 1.51121616e-03 1.70898438e-03\n",
      "  3.55061889e-03 7.91883469e-03 2.21281946e-02 1.46545857e-01\n",
      "  6.51398897e-01 8.71138811e-01 8.83724928e-01 8.94040823e-01\n",
      "  8.32038999e-01 8.21883500e-01 9.37549233e-01 9.32538152e-01\n",
      "  9.12315011e-01 6.99137509e-01 3.38321090e-01 1.53955400e-01\n",
      "  5.77945709e-02 2.09732652e-02 3.63042951e-03 3.83704901e-04\n",
      "  2.33769417e-04 2.44051218e-04 4.16398048e-04 7.47770071e-04\n",
      "  8.24004412e-04 1.77192688e-03 1.92496181e-03 2.46569514e-03\n",
      "  6.98298216e-03 1.84184909e-02 1.72250241e-01 5.27353406e-01\n",
      "  8.79876494e-01 9.53123033e-01 9.04599428e-01 8.67998362e-01\n",
      "  6.34757757e-01 6.24846339e-01 7.49665320e-01 9.06886995e-01\n",
      "  9.39385056e-01 8.20016503e-01 4.84848291e-01 1.24453098e-01\n",
      "  3.54961753e-02 1.10153854e-02 2.57980824e-03 4.54962254e-04\n",
      "  3.77476215e-04 3.93629074e-04 7.72297382e-04 5.90026379e-04\n",
      "  1.38595700e-03 1.00532174e-03 5.19710779e-03 6.61861897e-03\n",
      "  1.43668354e-02 4.65843976e-02 1.87781215e-01 5.97242951e-01\n",
      "  7.63224840e-01 6.30272865e-01 5.43149710e-01 2.12061673e-01\n",
      "  1.68045193e-01 1.64043635e-01 3.87087077e-01 8.10042262e-01\n",
      "  8.73842597e-01 7.92629361e-01 3.91071975e-01 8.42956007e-02\n",
      "  1.76587403e-02 5.87138534e-03 1.93881989e-03 3.61800194e-04\n",
      "  2.30789185e-04 2.38716602e-04 2.58654356e-04 6.44564629e-04\n",
      "  1.11562014e-03 3.19707394e-03 5.46234846e-03 1.56625211e-02\n",
      "  1.34479105e-02 4.94834185e-02 2.62874991e-01 6.91421270e-01\n",
      "  5.10874212e-01 2.63602495e-01 5.02381921e-02 2.97072530e-02\n",
      "  3.90811563e-02 8.68001282e-02 3.85995924e-01 8.33342910e-01\n",
      "  8.99374366e-01 6.07661009e-01 2.82775611e-01 2.08787918e-02\n",
      "  4.93869185e-03 3.51187587e-03 1.04546547e-03 2.99841166e-04\n",
      "  3.40789557e-04 2.68340111e-04 2.33501196e-04 8.27521086e-04\n",
      "  1.63063407e-03 2.51939893e-03 3.91751528e-03 1.55771971e-02\n",
      "  1.75063908e-02 8.75758529e-02 1.83806628e-01 4.88212258e-01\n",
      "  1.93604916e-01 6.83270991e-02 2.93511450e-02 3.34113538e-02\n",
      "  1.05379552e-01 3.24017197e-01 7.39365637e-01 8.05378437e-01\n",
      "  6.97651744e-01 3.07696342e-01 6.18960559e-02 5.07554412e-03\n",
      "  2.15363503e-03 1.21638179e-03 8.24451447e-04 3.26961279e-04\n",
      "  2.70068645e-04 4.77671623e-04 5.89370728e-04 8.90046358e-04\n",
      "  1.78307295e-03 8.54685903e-03 8.75103474e-03 4.09466028e-03\n",
      "  8.25780630e-03 3.23657393e-02 1.29725724e-01 1.67042673e-01\n",
      "  1.38883024e-01 1.84737772e-01 9.35973227e-02 1.65090710e-01\n",
      "  3.66373599e-01 7.44019866e-01 7.76246428e-01 6.14637136e-01\n",
      "  3.12493742e-01 3.11951041e-02 8.39617848e-03 1.61466002e-03\n",
      "  6.24239445e-04 1.36139989e-03 5.54054976e-04 1.85936689e-04\n",
      "  2.47329473e-04 2.96622515e-04 1.07935071e-03 6.75410032e-04\n",
      "  1.81627274e-03 8.77556205e-03 4.53075767e-03 6.05249405e-03\n",
      "  1.29189491e-02 5.37798107e-02 1.70928955e-01 2.32622266e-01\n",
      "  4.57074851e-01 5.00476599e-01 5.92559397e-01 7.46378660e-01\n",
      "  8.65710855e-01 8.69783878e-01 6.81264222e-01 1.86555356e-01\n",
      "  2.72998512e-02 8.08671117e-03 2.20626593e-03 6.26385212e-04\n",
      "  4.77701426e-04 5.43296337e-04 4.68730927e-04 3.08126211e-04\n",
      "  1.60604715e-04 3.30001116e-04 5.77419996e-04 7.20143318e-04\n",
      "  2.50577927e-03 8.79907608e-03 7.77888298e-03 5.29870391e-03\n",
      "  1.78041756e-02 7.15143085e-02 3.56224656e-01 6.65454328e-01\n",
      "  8.69133949e-01 9.51948881e-01 9.60611045e-01 9.33593392e-01\n",
      "  9.33089197e-01 8.09863448e-01 5.75315058e-01 1.33079290e-01\n",
      "  1.15405917e-02 3.74707580e-03 1.58703327e-03 4.63157892e-04\n",
      "  3.07500362e-04 3.51399183e-04 3.66717577e-04 3.59743834e-04\n",
      "  2.47031450e-04 3.15785408e-04 3.51190567e-04 1.05845928e-03\n",
      "  5.99652529e-03 5.57318330e-03 4.55433130e-03 3.86950374e-03\n",
      "  1.66603029e-02 1.74068958e-01 4.68203098e-01 9.23988819e-01\n",
      "  9.74406719e-01 9.93536174e-01 9.90863383e-01 9.60057497e-01\n",
      "  8.50719154e-01 6.99625790e-01 2.55892754e-01 2.53470540e-02\n",
      "  3.89346480e-03 2.29674578e-03 1.29601359e-03 8.75920057e-04\n",
      "  3.71783972e-04 2.59757042e-04 3.06189060e-04 3.37332487e-04\n",
      "  1.94400549e-04 2.50250101e-04 4.91470098e-04 1.45360827e-03\n",
      "  2.74685025e-03 4.67312336e-03 5.30123711e-03 3.64318490e-03\n",
      "  1.60244703e-02 7.88778663e-02 1.76477522e-01 6.93856657e-01\n",
      "  9.09541786e-01 9.42677081e-01 8.85362744e-01 5.90306938e-01\n",
      "  6.34399056e-01 6.72642589e-01 1.77132487e-01 1.47232413e-02\n",
      "  1.24877691e-03 5.97208738e-04 6.91920519e-04 3.69191170e-04\n",
      "  4.13388014e-04 1.03594240e-04 1.89781189e-04 3.12477350e-04\n",
      "  2.17378139e-04 2.49415636e-04 3.76880169e-04 2.98339128e-03\n",
      "  8.14706087e-03 4.39924002e-03 9.21300054e-03 1.92472935e-02\n",
      "  2.22852230e-02 4.22749817e-02 1.20772868e-01 2.76950181e-01\n",
      "  3.98902237e-01 3.17011237e-01 2.08141685e-01 1.95422500e-01\n",
      "  4.95911002e-01 7.00407267e-01 1.51749998e-01 7.23034143e-03\n",
      "  9.14394855e-04 8.08894634e-04 1.73002481e-03 4.49120998e-04\n",
      "  2.34216452e-04 2.31951475e-04 3.01718712e-04 2.61664391e-04\n",
      "  2.86370516e-04 3.24338675e-04 9.49591398e-04 5.29393554e-03\n",
      "  1.91507041e-02 2.70533562e-02 2.57685483e-02 2.88133919e-02\n",
      "  1.27993822e-02 2.37044692e-02 5.82475662e-02 2.95614004e-02\n",
      "  1.82698071e-02 7.58510828e-03 1.39311254e-02 8.60866010e-02\n",
      "  5.46352744e-01 6.50944233e-01 2.20354617e-01 8.94388556e-03\n",
      "  1.62512064e-03 1.36306882e-03 8.10742378e-04 3.04639339e-04\n",
      "  3.23832035e-04 1.56611204e-04 2.30044127e-04 1.93476677e-04\n",
      "  2.51144171e-04 3.93807888e-04 8.27580690e-04 1.95064843e-02\n",
      "  6.82922602e-02 7.19524622e-02 1.13524556e-01 3.69645953e-02\n",
      "  2.43846178e-02 2.03072131e-02 1.33661628e-02 8.25890899e-03\n",
      "  2.28571892e-03 1.23250484e-03 1.84059143e-03 1.87810957e-02\n",
      "  3.86601925e-01 6.54795110e-01 2.38167942e-01 5.37999570e-02\n",
      "  5.87600470e-03 3.20267677e-03 1.15457177e-03 7.90566206e-04\n",
      "  4.57376242e-04 5.32567501e-04 1.79737806e-04 1.87337399e-04\n",
      "  3.92347574e-04 2.84373760e-04 1.81940198e-03 5.97985983e-02\n",
      "  2.94184566e-01 3.34253222e-01 2.97628284e-01 1.44956499e-01\n",
      "  1.11280382e-01 2.70771384e-02 1.68499649e-02 6.31940365e-03\n",
      "  1.66857243e-03 1.55335665e-03 2.43994594e-03 4.01288271e-02\n",
      "  2.84410417e-01 6.81350231e-01 5.92832804e-01 8.35711062e-02\n",
      "  9.14847851e-03 2.46751308e-03 5.48243523e-04 6.65247440e-04\n",
      "  1.45795941e-03 3.03179026e-04 3.94314528e-04 2.57223845e-04\n",
      "  2.64436007e-04 4.02778387e-04 1.83624029e-03 1.44863844e-01\n",
      "  5.18497944e-01 4.94278163e-01 4.50142980e-01 4.90429938e-01\n",
      "  2.17818946e-01 2.30116546e-01 3.18516195e-02 2.31975913e-02\n",
      "  5.07628918e-03 8.01607966e-03 1.64671242e-02 8.34848881e-02\n",
      "  6.07677639e-01 8.91167641e-01 4.13895309e-01 8.45662355e-02\n",
      "  6.24713302e-03 1.76104903e-03 4.18812037e-04 8.03828239e-04\n",
      "  1.66347623e-03 6.76780939e-04 4.63157892e-04 2.96145678e-04\n",
      "  2.00092793e-04 2.49773264e-04 2.25192308e-03 7.76381791e-02\n",
      "  4.55263972e-01 6.98972642e-01 7.13651538e-01 7.95353174e-01\n",
      "  5.33759236e-01 1.51155442e-01 9.40564871e-02 5.79310060e-02\n",
      "  4.19493318e-02 3.25587392e-02 1.03996456e-01 3.98015976e-01\n",
      "  8.82611036e-01 8.69240403e-01 5.97760320e-01 2.65818238e-02\n",
      "  2.83581018e-03 5.82456589e-04 5.19305468e-04 1.49759650e-03\n",
      "  6.02245331e-04 8.49068165e-04 3.59028578e-04 2.84194946e-04\n",
      "  2.89589167e-04 2.70277262e-04 1.34614110e-03 3.55140865e-02\n",
      "  2.97682196e-01 6.96545601e-01 6.48212075e-01 8.57624233e-01\n",
      "  7.54711509e-01 3.02525043e-01 2.64560878e-01 2.99437493e-01\n",
      "  3.91171634e-01 3.42787862e-01 5.16348302e-01 7.77394891e-01\n",
      "  8.38176072e-01 8.05181742e-01 2.71556526e-01 2.43488252e-02\n",
      "  1.50516629e-03 1.53881311e-03 9.19967890e-04 1.14095211e-03\n",
      "  7.87883997e-04 5.07682562e-04 2.18063593e-04 2.21431255e-04\n",
      "  2.36868858e-04 3.32742929e-04 4.66078520e-04 6.01032376e-03\n",
      "  9.79779065e-02 5.00489891e-01 5.65441787e-01 8.77308607e-01\n",
      "  7.97834158e-01 8.42242479e-01 8.17886055e-01 8.24192464e-01\n",
      "  6.04540408e-01 8.02469254e-01 5.51040113e-01 5.46335459e-01\n",
      "  5.66196680e-01 4.32309479e-01 8.70865881e-02 1.40399635e-02\n",
      "  3.76567245e-03 7.71611929e-04 6.98655844e-04 8.85277987e-04\n",
      "  4.70250845e-04 3.85016203e-04 2.47389078e-04 1.80870295e-04\n",
      "  2.69740820e-04 2.69740820e-04 3.68654728e-04 9.81509686e-04\n",
      "  1.39955878e-02 7.17092156e-02 3.40297908e-01 4.37514961e-01\n",
      "  6.42018974e-01 8.83655548e-01 7.83951819e-01 6.24666989e-01\n",
      "  6.29972756e-01 2.99167246e-01 1.64830267e-01 1.29406601e-01\n",
      "  2.40603685e-01 9.02200341e-02 2.21464336e-02 3.75655293e-03\n",
      "  2.79766321e-03 7.59869814e-04 5.17606735e-04 8.60780478e-04\n",
      "  6.82502985e-04 3.89873981e-04 3.30865383e-04 2.14338303e-04\n",
      "  2.05993652e-04 3.36110592e-04 2.43604183e-04 2.19047070e-04\n",
      "  9.08583403e-04 2.22027302e-03 3.63653898e-03 1.32051408e-02\n",
      "  1.56284869e-02 3.53935063e-02 3.25855613e-02 3.88171971e-02\n",
      "  1.67154670e-02 1.14666820e-02 1.12513602e-02 1.54213011e-02\n",
      "  2.25153565e-02 2.77041495e-02 2.45928764e-03 1.68406963e-03\n",
      "  1.44019723e-03 3.97413969e-04 1.00764632e-03 3.13997269e-04\n",
      "  1.93387270e-04 3.90052795e-04 3.86863947e-04 2.27659941e-04\n",
      "  2.48998404e-04 3.07232141e-04 4.81605530e-04 1.65164471e-04\n",
      "  4.70191240e-04 8.64148140e-04 1.19391084e-03 5.75453043e-04\n",
      "  5.76287508e-04 6.63876534e-04 5.94705343e-04 4.66346741e-04\n",
      "  5.47111034e-04 4.27395105e-04 4.06324863e-04 1.63489580e-03\n",
      "  3.83713841e-03 2.46876478e-03 8.73833895e-04 5.94466925e-04\n",
      "  4.63932753e-04 4.40299511e-04 4.72575426e-04 2.79545784e-04\n",
      "  1.87516212e-04 2.71230936e-04 2.72423029e-04 2.32160091e-04\n",
      "  2.61753798e-04 2.75224447e-04 2.54064798e-04 1.58846378e-04\n",
      "  4.01318073e-04 2.78413296e-04 1.98811293e-04 3.82155180e-04\n",
      "  8.90552998e-04 5.72293997e-04 6.33418560e-04 4.83721495e-04\n",
      "  3.44961882e-04 7.32779503e-04 4.40299511e-04 5.43564558e-04\n",
      "  7.27176666e-04 8.29368830e-04 3.72141600e-04 2.82764435e-04\n",
      "  2.48551369e-04 2.44557858e-04 3.57180834e-04 1.77949667e-04\n",
      "  2.41637230e-04 3.10301781e-04 2.95192003e-04 1.79022551e-04]], shape=(1, 784), dtype=float32)\n"
     ]
    }
   ],
   "source": [
    "hh0_p = tf.nn.sigmoid(tf.matmul(sample_case, W) + hb)\n",
    "hh0_s = tf.round(hh0_p)\n",
    "\n",
    "print(\"Probability nodes in hidden layer:\" ,hh0_p)\n",
    "print(\"activated nodes in hidden layer:\" ,hh0_s)\n",
    "\n",
    "# reconstruct\n",
    "vv1_p = tf.nn.sigmoid(tf.matmul(hh0_s, tf.transpose(W)) + vb)\n",
    "\n",
    "print(vv1_p)\n",
    "#rec_prob = sess.run(vv1_p, feed_dict={ hh0_s: hh0_s_val, W: prv_w, vb: prv_vb})"
   ]
  },
  {
   "cell_type": "markdown",
   "metadata": {},
   "source": [
    "Here we plot the reconstructed image:\n"
   ]
  },
  {
   "cell_type": "code",
   "execution_count": 28,
   "metadata": {},
   "outputs": [
    {
     "data": {
      "image/png": "[encoded data removed]",
      "text/plain": [
       "<Figure size 400x400 with 1 Axes>"
      ]
     },
     "metadata": {},
     "output_type": "display_data"
    }
   ],
   "source": [
    "img = Image.fromarray(tile_raster_images(X=vv1_p.numpy(), img_shape=(28, 28),tile_shape=(1, 1), tile_spacing=(1, 1)))\n",
    "plt.rcParams['figure.figsize'] = (4.0, 4.0)\n",
    "imgplot = plt.imshow(img)\n",
    "imgplot.set_cmap('gray') "
   ]
  },
  {
   "cell_type": "markdown",
   "metadata": {},
   "source": [
    "<hr>\n",
    "\n",
    "## Want to learn more?\n",
    "\n",
    "Also, you can use __Watson Studio__ to run these notebooks faster with bigger datasets.__Watson Studio__ is IBM’s leading cloud solution for data scientists, built by data scientists. With Jupyter notebooks, RStudio, Apache Spark and popular libraries pre-packaged in the cloud, __Watson Studio__ enables data scientists to collaborate on their projects without having to install anything. Join the fast-growing community of __Watson Studio__ users today with a free account at [Watson Studio](https://cocl.us/ML0120EN_DSX).This is the end of this lesson. Thank you for reading this notebook, and good luck on your studies.\n"
   ]
  },
  {
   "cell_type": "markdown",
   "metadata": {},
   "source": [
    "### Thanks for completing this lesson!\n",
    "\n",
    "Notebook created by: <a href = \"https://ca.linkedin.com/in/saeedaghabozorgi?utm_medium=Exinfluencer&utm_source=Exinfluencer&utm_content=000026UJ&utm_term=10006555&utm_id=NA-SkillsNetwork-Channel-SkillsNetworkCoursesIBMDeveloperSkillsNetworkDL0120ENSkillsNetwork954-2022-01-01\">Saeed Aghabozorgi</a>\n",
    "\n",
    "Updated to TF 2.X by  <a href=\"https://ca.linkedin.com/in/nilmeier?utm_medium=Exinfluencer&utm_source=Exinfluencer&utm_content=000026UJ&utm_term=10006555&utm_id=NA-SkillsNetwork-Channel-SkillsNetworkCoursesIBMDeveloperSkillsNetworkDL0120ENSkillsNetwork954-2022-01-01\"> Jerome Nilmeier</a><br />\n"
   ]
  },
  {
   "cell_type": "markdown",
   "metadata": {},
   "source": [
    "### References:\n",
    "https://en.wikipedia.org/wiki/Restricted_Boltzmann_machine  \n",
    "http://deeplearning.net/tutorial/rbm.html  \n",
    "http://www.cs.utoronto.ca/~hinton/absps/netflixICML.pdf<br>\n",
    "http://imonad.com/rbm/restricted-boltzmann-machine/  \n"
   ]
  },
  {
   "cell_type": "markdown",
   "metadata": {},
   "source": [
    "<hr>\n",
    "\n",
    "Copyright &copy; 2018 [Cognitive Class](https://cocl.us/DX0108EN_CC). This notebook and its source code are released under the terms of the [MIT License](https://bigdatauniversity.com/mit-license/?utm_medium=Exinfluencer&utm_source=Exinfluencer&utm_content=000026UJ&utm_term=10006555&utm_id=NA-SkillsNetwork-Channel-SkillsNetworkCoursesIBMDeveloperSkillsNetworkDL0120ENSkillsNetwork954-2022-01-01).\n"
   ]
  },
  {
   "cell_type": "code",
   "execution_count": null,
   "metadata": {},
   "outputs": [],
   "source": []
  }
 ],
 "metadata": {
  "kernelspec": {
   "display_name": "Python",
   "language": "python",
   "name": "conda-env-python-py"
  },
  "language_info": {
   "codemirror_mode": {
    "name": "ipython",
    "version": 3
   },
   "file_extension": ".py",
   "mimetype": "text/x-python",
   "name": "python",
   "nbconvert_exporter": "python",
   "pygments_lexer": "ipython3",
   "version": "3.7.12"
  }
 },
 "nbformat": 4,
 "nbformat_minor": 4
}
